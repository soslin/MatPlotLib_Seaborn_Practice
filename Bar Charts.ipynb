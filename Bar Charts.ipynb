{
 "cells": [
  {
   "cell_type": "code",
   "execution_count": 1,
   "id": "4239f4ba",
   "metadata": {},
   "outputs": [],
   "source": [
    "import pandas as pd\n",
    "import numpy as np\n",
    "\n",
    "import matplotlib.pyplot as plt\n",
    "import matplotlib.patches as mpatches\n",
    "import seaborn as sns"
   ]
  },
  {
   "cell_type": "code",
   "execution_count": 2,
   "id": "3b3ee886",
   "metadata": {},
   "outputs": [
    {
     "data": {
      "text/plain": [
       "''"
      ]
     },
     "execution_count": 2,
     "metadata": {},
     "output_type": "execute_result"
    },
    {
     "data": {
      "image/png": "[encoded data removed]",
      "text/plain": [
       "<Figure size 640x480 with 1 Axes>"
      ]
     },
     "metadata": {},
     "output_type": "display_data"
    }
   ],
   "source": [
    "fig, ax = plt.subplots()\n",
    "\n",
    "labels = ['e', 'd', 'c', 'b', 'a']\n",
    "data = [0, 1, 2, 3, 4]\n",
    "ax.bar(labels, data)\n",
    "\n",
    ";"
   ]
  },
  {
   "cell_type": "code",
   "execution_count": 3,
   "id": "45feb420",
   "metadata": {},
   "outputs": [
    {
     "data": {
      "text/plain": [
       "''"
      ]
     },
     "execution_count": 3,
     "metadata": {},
     "output_type": "execute_result"
    },
    {
     "data": {
      "image/png": "[encoded data removed]",
      "text/plain": [
       "<Figure size 640x480 with 1 Axes>"
      ]
     },
     "metadata": {},
     "output_type": "display_data"
    }
   ],
   "source": [
    "fig, ax = plt.subplots()\n",
    "\n",
    "labels = ['e', 'd', 'c', 'b', 'a']\n",
    "data = [0, 1, 2, 3, 4]\n",
    "ax.barh(labels, data)\n",
    "\n",
    ";"
   ]
  },
  {
   "cell_type": "code",
   "execution_count": 4,
   "id": "1f33308f",
   "metadata": {},
   "outputs": [
    {
     "data": {
      "text/plain": [
       "''"
      ]
     },
     "execution_count": 4,
     "metadata": {},
     "output_type": "execute_result"
    },
    {
     "data": {
      "image/png": "[encoded data removed]",
      "text/plain": [
       "<Figure size 640x480 with 1 Axes>"
      ]
     },
     "metadata": {},
     "output_type": "display_data"
    }
   ],
   "source": [
    "fig, ax = plt.subplots()\n",
    "\n",
    "labels = ['e', 'd', 'c', 'b', 'a'][::-1] #reverse order\n",
    "data = [0, 1, 2, 3, 4][::-1] #got to do both\n",
    "ax.barh(labels, data)\n",
    "\n",
    ";"
   ]
  },
  {
   "cell_type": "code",
   "execution_count": 5,
   "id": "49aa9fe2",
   "metadata": {},
   "outputs": [],
   "source": [
    "housing_raw = pd.read_csv(\n",
    "    '../Data/housing_data.csv',\n",
    "    parse_dates = ['period_begin', 'period_end'],\n",
    "    dtype = {'total_homes_sold' : 'Int32', 'region_name' : 'category'} \n",
    ") #category cuts down on processing time"
   ]
  },
  {
   "cell_type": "code",
   "execution_count": 31,
   "id": "d3d4bf37",
   "metadata": {},
   "outputs": [
    {
     "data": {
      "text/html": [
       "<div>\n",
       "<style scoped>\n",
       "    .dataframe tbody tr th:only-of-type {\n",
       "        vertical-align: middle;\n",
       "    }\n",
       "\n",
       "    .dataframe tbody tr th {\n",
       "        vertical-align: top;\n",
       "    }\n",
       "\n",
       "    .dataframe thead th {\n",
       "        text-align: right;\n",
       "    }\n",
       "</style>\n",
       "<table border=\"1\" class=\"dataframe\">\n",
       "  <thead>\n",
       "    <tr style=\"text-align: right;\">\n",
       "      <th></th>\n",
       "      <th>region_name</th>\n",
       "      <th>period_end</th>\n",
       "      <th>total_homes_sold</th>\n",
       "      <th>inventory</th>\n",
       "      <th>active_listings</th>\n",
       "      <th>age_of_inventory</th>\n",
       "      <th>median_active_list_price</th>\n",
       "      <th>months_of_supply</th>\n",
       "    </tr>\n",
       "    <tr>\n",
       "      <th>period_begin</th>\n",
       "      <th></th>\n",
       "      <th></th>\n",
       "      <th></th>\n",
       "      <th></th>\n",
       "      <th></th>\n",
       "      <th></th>\n",
       "      <th></th>\n",
       "      <th></th>\n",
       "    </tr>\n",
       "  </thead>\n",
       "  <tbody>\n",
       "    <tr>\n",
       "      <th>2017-01-02</th>\n",
       "      <td>Mono</td>\n",
       "      <td>2017-03-26</td>\n",
       "      <td>97</td>\n",
       "      <td>153.0</td>\n",
       "      <td>161.0</td>\n",
       "      <td>89.7</td>\n",
       "      <td>450745.8</td>\n",
       "      <td>21.208631</td>\n",
       "    </tr>\n",
       "    <tr>\n",
       "      <th>2017-01-02</th>\n",
       "      <td>Yolo</td>\n",
       "      <td>2017-03-26</td>\n",
       "      <td>336</td>\n",
       "      <td>234.0</td>\n",
       "      <td>272.0</td>\n",
       "      <td>48.5</td>\n",
       "      <td>447859.2</td>\n",
       "      <td>9.857470</td>\n",
       "    </tr>\n",
       "    <tr>\n",
       "      <th>2017-01-02</th>\n",
       "      <td>Stanislaus</td>\n",
       "      <td>2017-03-26</td>\n",
       "      <td>1192</td>\n",
       "      <td>912.0</td>\n",
       "      <td>1043.0</td>\n",
       "      <td>55.3</td>\n",
       "      <td>300302.0</td>\n",
       "      <td>10.971331</td>\n",
       "    </tr>\n",
       "    <tr>\n",
       "      <th>2017-01-02</th>\n",
       "      <td>Shasta</td>\n",
       "      <td>2017-03-26</td>\n",
       "      <td>7</td>\n",
       "      <td>17.0</td>\n",
       "      <td>18.0</td>\n",
       "      <td>147.5</td>\n",
       "      <td>489020.8</td>\n",
       "      <td>17.333333</td>\n",
       "    </tr>\n",
       "    <tr>\n",
       "      <th>2017-01-02</th>\n",
       "      <td>Lassen</td>\n",
       "      <td>2017-03-26</td>\n",
       "      <td>2</td>\n",
       "      <td>5.0</td>\n",
       "      <td>5.0</td>\n",
       "      <td>98.8</td>\n",
       "      <td>198750.0</td>\n",
       "      <td>5.500000</td>\n",
       "    </tr>\n",
       "  </tbody>\n",
       "</table>\n",
       "</div>"
      ],
      "text/plain": [
       "             region_name period_end  total_homes_sold  inventory  \\\n",
       "period_begin                                                       \n",
       "2017-01-02          Mono 2017-03-26                97      153.0   \n",
       "2017-01-02          Yolo 2017-03-26               336      234.0   \n",
       "2017-01-02    Stanislaus 2017-03-26              1192      912.0   \n",
       "2017-01-02        Shasta 2017-03-26                 7       17.0   \n",
       "2017-01-02        Lassen 2017-03-26                 2        5.0   \n",
       "\n",
       "              active_listings  age_of_inventory  median_active_list_price  \\\n",
       "period_begin                                                                \n",
       "2017-01-02              161.0              89.7                  450745.8   \n",
       "2017-01-02              272.0              48.5                  447859.2   \n",
       "2017-01-02             1043.0              55.3                  300302.0   \n",
       "2017-01-02               18.0             147.5                  489020.8   \n",
       "2017-01-02                5.0              98.8                  198750.0   \n",
       "\n",
       "              months_of_supply  \n",
       "period_begin                    \n",
       "2017-01-02           21.208631  \n",
       "2017-01-02            9.857470  \n",
       "2017-01-02           10.971331  \n",
       "2017-01-02           17.333333  \n",
       "2017-01-02            5.500000  "
      ]
     },
     "execution_count": 31,
     "metadata": {},
     "output_type": "execute_result"
    }
   ],
   "source": [
    "ca_housing = (housing_raw.loc[\n",
    "    (housing_raw['region_name'].str.contains('CA'))]\n",
    "              .assign(region_name = housing_raw['region_name']\n",
    "                      .str[0:-11]).set_index('period_begin').sort_index())\n",
    "\n",
    "ca_housing.head()"
   ]
  },
  {
   "cell_type": "code",
   "execution_count": 7,
   "id": "bfcdfc7e",
   "metadata": {},
   "outputs": [],
   "source": [
    "total_sold = (ca_housing\n",
    "             .groupby('region_name')\n",
    "             .agg({'total_homes_sold' : 'sum'})\n",
    "              .sort_values('total_homes_sold', ascending = False)\n",
    "              .iloc[:10]\n",
    "             )"
   ]
  },
  {
   "cell_type": "code",
   "execution_count": 8,
   "id": "b276f5f4",
   "metadata": {},
   "outputs": [
    {
     "data": {
      "text/html": [
       "<div>\n",
       "<style scoped>\n",
       "    .dataframe tbody tr th:only-of-type {\n",
       "        vertical-align: middle;\n",
       "    }\n",
       "\n",
       "    .dataframe tbody tr th {\n",
       "        vertical-align: top;\n",
       "    }\n",
       "\n",
       "    .dataframe thead th {\n",
       "        text-align: right;\n",
       "    }\n",
       "</style>\n",
       "<table border=\"1\" class=\"dataframe\">\n",
       "  <thead>\n",
       "    <tr style=\"text-align: right;\">\n",
       "      <th></th>\n",
       "      <th>total_homes_sold</th>\n",
       "    </tr>\n",
       "    <tr>\n",
       "      <th>region_name</th>\n",
       "      <th></th>\n",
       "    </tr>\n",
       "  </thead>\n",
       "  <tbody>\n",
       "    <tr>\n",
       "      <th>Los Angeles</th>\n",
       "      <td>4622703</td>\n",
       "    </tr>\n",
       "    <tr>\n",
       "      <th>San Diego</th>\n",
       "      <td>2373289</td>\n",
       "    </tr>\n",
       "    <tr>\n",
       "      <th>Riverside</th>\n",
       "      <td>2335243</td>\n",
       "    </tr>\n",
       "    <tr>\n",
       "      <th>Orange</th>\n",
       "      <td>2004799</td>\n",
       "    </tr>\n",
       "    <tr>\n",
       "      <th>San Bernardino</th>\n",
       "      <td>1705727</td>\n",
       "    </tr>\n",
       "    <tr>\n",
       "      <th>Sacramento</th>\n",
       "      <td>1256838</td>\n",
       "    </tr>\n",
       "    <tr>\n",
       "      <th>Santa Clara</th>\n",
       "      <td>967707</td>\n",
       "    </tr>\n",
       "    <tr>\n",
       "      <th>Alameda</th>\n",
       "      <td>925469</td>\n",
       "    </tr>\n",
       "    <tr>\n",
       "      <th>Contra Costa</th>\n",
       "      <td>921039</td>\n",
       "    </tr>\n",
       "    <tr>\n",
       "      <th>Fresno</th>\n",
       "      <td>608004</td>\n",
       "    </tr>\n",
       "  </tbody>\n",
       "</table>\n",
       "</div>"
      ],
      "text/plain": [
       "                total_homes_sold\n",
       "region_name                     \n",
       "Los Angeles              4622703\n",
       "San Diego                2373289\n",
       "Riverside                2335243\n",
       "Orange                   2004799\n",
       "San Bernardino           1705727\n",
       "Sacramento               1256838\n",
       "Santa Clara               967707\n",
       "Alameda                   925469\n",
       "Contra Costa              921039\n",
       "Fresno                    608004"
      ]
     },
     "execution_count": 8,
     "metadata": {},
     "output_type": "execute_result"
    }
   ],
   "source": [
    "total_sold"
   ]
  },
  {
   "cell_type": "code",
   "execution_count": 9,
   "id": "303df9d2",
   "metadata": {},
   "outputs": [
    {
     "data": {
      "image/png": "[encoded data removed]",
      "text/plain": [
       "<Figure size 640x480 with 1 Axes>"
      ]
     },
     "metadata": {},
     "output_type": "display_data"
    }
   ],
   "source": [
    "fig, ax = plt.subplots()\n",
    "colors = ['blue', 'blue', 'blue', 'blue', 'blue', 'red', 'orange', 'orange', 'orange', 'red']\n",
    "\n",
    "ax.bar(total_sold.index, total_sold['total_homes_sold'],\n",
    "         color = colors)\n",
    "\n",
    "socal = mpatches.Patch(color = 'blue', label = 'SoCal')\n",
    "central = mpatches.Patch(color = 'red', label = \"Central Valley\")\n",
    "bay = mpatches.Patch(color = 'orange', label = 'Bay Area')\n",
    "\n",
    "plt.legend(handles = [socal, central, bay], loc = 'upper right')\n",
    "\n",
    "ax.xaxis.set_tick_params(rotation = 30)"
   ]
  },
  {
   "cell_type": "code",
   "execution_count": 10,
   "id": "cea179cd",
   "metadata": {},
   "outputs": [],
   "source": [
    "ca_or = housing_raw.loc[housing_raw['region_name'].str[-2:].isin([\"CA\", \"OR\", \"WA\"])]"
   ]
  },
  {
   "cell_type": "code",
   "execution_count": 11,
   "id": "f006a383",
   "metadata": {},
   "outputs": [
    {
     "data": {
      "text/html": [
       "<div>\n",
       "<style scoped>\n",
       "    .dataframe tbody tr th:only-of-type {\n",
       "        vertical-align: middle;\n",
       "    }\n",
       "\n",
       "    .dataframe tbody tr th {\n",
       "        vertical-align: top;\n",
       "    }\n",
       "\n",
       "    .dataframe thead th {\n",
       "        text-align: right;\n",
       "    }\n",
       "</style>\n",
       "<table border=\"1\" class=\"dataframe\">\n",
       "  <thead>\n",
       "    <tr style=\"text-align: right;\">\n",
       "      <th></th>\n",
       "      <th>region_name</th>\n",
       "      <th>period_begin</th>\n",
       "      <th>period_end</th>\n",
       "      <th>total_homes_sold</th>\n",
       "      <th>inventory</th>\n",
       "      <th>active_listings</th>\n",
       "      <th>age_of_inventory</th>\n",
       "      <th>median_active_list_price</th>\n",
       "      <th>months_of_supply</th>\n",
       "    </tr>\n",
       "  </thead>\n",
       "  <tbody>\n",
       "    <tr>\n",
       "      <th>6</th>\n",
       "      <td>Sacramento County, CA</td>\n",
       "      <td>2020-06-22</td>\n",
       "      <td>2020-09-13</td>\n",
       "      <td>5107</td>\n",
       "      <td>1729.0</td>\n",
       "      <td>2206.0</td>\n",
       "      <td>27.5</td>\n",
       "      <td>445540.9</td>\n",
       "      <td>5.235794</td>\n",
       "    </tr>\n",
       "    <tr>\n",
       "      <th>19</th>\n",
       "      <td>Garfield County, WA</td>\n",
       "      <td>2019-06-17</td>\n",
       "      <td>2019-09-08</td>\n",
       "      <td>7</td>\n",
       "      <td>9.0</td>\n",
       "      <td>10.0</td>\n",
       "      <td>52.7</td>\n",
       "      <td>152666.6</td>\n",
       "      <td>9.333333</td>\n",
       "    </tr>\n",
       "    <tr>\n",
       "      <th>26</th>\n",
       "      <td>Gilliam County, OR</td>\n",
       "      <td>2018-06-18</td>\n",
       "      <td>2018-09-09</td>\n",
       "      <td>3</td>\n",
       "      <td>9.0</td>\n",
       "      <td>9.0</td>\n",
       "      <td>95.6</td>\n",
       "      <td>143037.5</td>\n",
       "      <td>9.000000</td>\n",
       "    </tr>\n",
       "    <tr>\n",
       "      <th>99</th>\n",
       "      <td>Klickitat County, WA</td>\n",
       "      <td>2017-04-17</td>\n",
       "      <td>2017-07-09</td>\n",
       "      <td>48</td>\n",
       "      <td>53.0</td>\n",
       "      <td>58.0</td>\n",
       "      <td>87.2</td>\n",
       "      <td>326237.5</td>\n",
       "      <td>16.193434</td>\n",
       "    </tr>\n",
       "    <tr>\n",
       "      <th>124</th>\n",
       "      <td>Jefferson County, WA</td>\n",
       "      <td>2017-02-06</td>\n",
       "      <td>2017-04-30</td>\n",
       "      <td>138</td>\n",
       "      <td>177.0</td>\n",
       "      <td>190.0</td>\n",
       "      <td>127.8</td>\n",
       "      <td>404637.5</td>\n",
       "      <td>22.486617</td>\n",
       "    </tr>\n",
       "  </tbody>\n",
       "</table>\n",
       "</div>"
      ],
      "text/plain": [
       "               region_name period_begin period_end  total_homes_sold  \\\n",
       "6    Sacramento County, CA   2020-06-22 2020-09-13              5107   \n",
       "19     Garfield County, WA   2019-06-17 2019-09-08                 7   \n",
       "26      Gilliam County, OR   2018-06-18 2018-09-09                 3   \n",
       "99    Klickitat County, WA   2017-04-17 2017-07-09                48   \n",
       "124   Jefferson County, WA   2017-02-06 2017-04-30               138   \n",
       "\n",
       "     inventory  active_listings  age_of_inventory  median_active_list_price  \\\n",
       "6       1729.0           2206.0              27.5                  445540.9   \n",
       "19         9.0             10.0              52.7                  152666.6   \n",
       "26         9.0              9.0              95.6                  143037.5   \n",
       "99        53.0             58.0              87.2                  326237.5   \n",
       "124      177.0            190.0             127.8                  404637.5   \n",
       "\n",
       "     months_of_supply  \n",
       "6            5.235794  \n",
       "19           9.333333  \n",
       "26           9.000000  \n",
       "99          16.193434  \n",
       "124         22.486617  "
      ]
     },
     "execution_count": 11,
     "metadata": {},
     "output_type": "execute_result"
    }
   ],
   "source": [
    "ca_or.head()"
   ]
  },
  {
   "cell_type": "code",
   "execution_count": 12,
   "id": "920e37ae",
   "metadata": {},
   "outputs": [],
   "source": [
    "ca_or = ca_or.assign(\n",
    "    price_range = pd.cut(\n",
    "        ca_or.loc[:, \"median_active_list_price\"],\n",
    "        [0, 400000, 600000, 2000000],\n",
    "        labels = [\"0-400K\", \"400-600K\", \"600K+\"]),\n",
    "    state = ca_or[\"region_name\"].str[-2:]\n",
    ")"
   ]
  },
  {
   "cell_type": "code",
   "execution_count": 13,
   "id": "cdd2e570",
   "metadata": {},
   "outputs": [
    {
     "data": {
      "text/html": [
       "<div>\n",
       "<style scoped>\n",
       "    .dataframe tbody tr th:only-of-type {\n",
       "        vertical-align: middle;\n",
       "    }\n",
       "\n",
       "    .dataframe tbody tr th {\n",
       "        vertical-align: top;\n",
       "    }\n",
       "\n",
       "    .dataframe thead th {\n",
       "        text-align: right;\n",
       "    }\n",
       "</style>\n",
       "<table border=\"1\" class=\"dataframe\">\n",
       "  <thead>\n",
       "    <tr style=\"text-align: right;\">\n",
       "      <th></th>\n",
       "      <th>region_name</th>\n",
       "      <th>period_begin</th>\n",
       "      <th>period_end</th>\n",
       "      <th>total_homes_sold</th>\n",
       "      <th>inventory</th>\n",
       "      <th>active_listings</th>\n",
       "      <th>age_of_inventory</th>\n",
       "      <th>median_active_list_price</th>\n",
       "      <th>months_of_supply</th>\n",
       "      <th>price_range</th>\n",
       "      <th>state</th>\n",
       "    </tr>\n",
       "  </thead>\n",
       "  <tbody>\n",
       "    <tr>\n",
       "      <th>6</th>\n",
       "      <td>Sacramento County, CA</td>\n",
       "      <td>2020-06-22</td>\n",
       "      <td>2020-09-13</td>\n",
       "      <td>5107</td>\n",
       "      <td>1729.0</td>\n",
       "      <td>2206.0</td>\n",
       "      <td>27.5</td>\n",
       "      <td>445540.9</td>\n",
       "      <td>5.235794</td>\n",
       "      <td>400-600K</td>\n",
       "      <td>CA</td>\n",
       "    </tr>\n",
       "    <tr>\n",
       "      <th>19</th>\n",
       "      <td>Garfield County, WA</td>\n",
       "      <td>2019-06-17</td>\n",
       "      <td>2019-09-08</td>\n",
       "      <td>7</td>\n",
       "      <td>9.0</td>\n",
       "      <td>10.0</td>\n",
       "      <td>52.7</td>\n",
       "      <td>152666.6</td>\n",
       "      <td>9.333333</td>\n",
       "      <td>0-400K</td>\n",
       "      <td>WA</td>\n",
       "    </tr>\n",
       "    <tr>\n",
       "      <th>26</th>\n",
       "      <td>Gilliam County, OR</td>\n",
       "      <td>2018-06-18</td>\n",
       "      <td>2018-09-09</td>\n",
       "      <td>3</td>\n",
       "      <td>9.0</td>\n",
       "      <td>9.0</td>\n",
       "      <td>95.6</td>\n",
       "      <td>143037.5</td>\n",
       "      <td>9.000000</td>\n",
       "      <td>0-400K</td>\n",
       "      <td>OR</td>\n",
       "    </tr>\n",
       "    <tr>\n",
       "      <th>99</th>\n",
       "      <td>Klickitat County, WA</td>\n",
       "      <td>2017-04-17</td>\n",
       "      <td>2017-07-09</td>\n",
       "      <td>48</td>\n",
       "      <td>53.0</td>\n",
       "      <td>58.0</td>\n",
       "      <td>87.2</td>\n",
       "      <td>326237.5</td>\n",
       "      <td>16.193434</td>\n",
       "      <td>0-400K</td>\n",
       "      <td>WA</td>\n",
       "    </tr>\n",
       "    <tr>\n",
       "      <th>124</th>\n",
       "      <td>Jefferson County, WA</td>\n",
       "      <td>2017-02-06</td>\n",
       "      <td>2017-04-30</td>\n",
       "      <td>138</td>\n",
       "      <td>177.0</td>\n",
       "      <td>190.0</td>\n",
       "      <td>127.8</td>\n",
       "      <td>404637.5</td>\n",
       "      <td>22.486617</td>\n",
       "      <td>400-600K</td>\n",
       "      <td>WA</td>\n",
       "    </tr>\n",
       "  </tbody>\n",
       "</table>\n",
       "</div>"
      ],
      "text/plain": [
       "               region_name period_begin period_end  total_homes_sold  \\\n",
       "6    Sacramento County, CA   2020-06-22 2020-09-13              5107   \n",
       "19     Garfield County, WA   2019-06-17 2019-09-08                 7   \n",
       "26      Gilliam County, OR   2018-06-18 2018-09-09                 3   \n",
       "99    Klickitat County, WA   2017-04-17 2017-07-09                48   \n",
       "124   Jefferson County, WA   2017-02-06 2017-04-30               138   \n",
       "\n",
       "     inventory  active_listings  age_of_inventory  median_active_list_price  \\\n",
       "6       1729.0           2206.0              27.5                  445540.9   \n",
       "19         9.0             10.0              52.7                  152666.6   \n",
       "26         9.0              9.0              95.6                  143037.5   \n",
       "99        53.0             58.0              87.2                  326237.5   \n",
       "124      177.0            190.0             127.8                  404637.5   \n",
       "\n",
       "     months_of_supply price_range state  \n",
       "6            5.235794    400-600K    CA  \n",
       "19           9.333333      0-400K    WA  \n",
       "26           9.000000      0-400K    OR  \n",
       "99          16.193434      0-400K    WA  \n",
       "124         22.486617    400-600K    WA  "
      ]
     },
     "execution_count": 13,
     "metadata": {},
     "output_type": "execute_result"
    }
   ],
   "source": [
    "ca_or.head()"
   ]
  },
  {
   "cell_type": "code",
   "execution_count": 14,
   "id": "2b73a143",
   "metadata": {},
   "outputs": [
    {
     "data": {
      "text/html": [
       "<div>\n",
       "<style scoped>\n",
       "    .dataframe tbody tr th:only-of-type {\n",
       "        vertical-align: middle;\n",
       "    }\n",
       "\n",
       "    .dataframe tbody tr th {\n",
       "        vertical-align: top;\n",
       "    }\n",
       "\n",
       "    .dataframe thead th {\n",
       "        text-align: right;\n",
       "    }\n",
       "</style>\n",
       "<table border=\"1\" class=\"dataframe\">\n",
       "  <thead>\n",
       "    <tr style=\"text-align: right;\">\n",
       "      <th>state</th>\n",
       "      <th>CA</th>\n",
       "      <th>OR</th>\n",
       "      <th>WA</th>\n",
       "    </tr>\n",
       "    <tr>\n",
       "      <th>price_range</th>\n",
       "      <th></th>\n",
       "      <th></th>\n",
       "      <th></th>\n",
       "    </tr>\n",
       "  </thead>\n",
       "  <tbody>\n",
       "    <tr>\n",
       "      <th>0-400K</th>\n",
       "      <td>4267.0</td>\n",
       "      <td>1074.0</td>\n",
       "      <td>2143.0</td>\n",
       "    </tr>\n",
       "    <tr>\n",
       "      <th>400-600K</th>\n",
       "      <td>13877.0</td>\n",
       "      <td>4711.0</td>\n",
       "      <td>4858.0</td>\n",
       "    </tr>\n",
       "    <tr>\n",
       "      <th>600K+</th>\n",
       "      <td>35147.0</td>\n",
       "      <td>1229.0</td>\n",
       "      <td>3649.0</td>\n",
       "    </tr>\n",
       "  </tbody>\n",
       "</table>\n",
       "</div>"
      ],
      "text/plain": [
       "state             CA      OR      WA\n",
       "price_range                         \n",
       "0-400K        4267.0  1074.0  2143.0\n",
       "400-600K     13877.0  4711.0  4858.0\n",
       "600K+        35147.0  1229.0  3649.0"
      ]
     },
     "execution_count": 14,
     "metadata": {},
     "output_type": "execute_result"
    }
   ],
   "source": [
    "ca_or = ca_or.query(\"period_end == '2021-08-01'\").pivot_table(index = 'price_range', \n",
    "                                                              columns = 'state',\n",
    "                                                             values = 'inventory',\n",
    "                                                             aggfunc = 'sum')\n",
    "ca_or.head()"
   ]
  },
  {
   "cell_type": "code",
   "execution_count": 15,
   "id": "a045b622",
   "metadata": {},
   "outputs": [
    {
     "data": {
      "text/plain": [
       "''"
      ]
     },
     "execution_count": 15,
     "metadata": {},
     "output_type": "execute_result"
    },
    {
     "data": {
      "image/png": "[encoded data removed]",
      "text/plain": [
       "<Figure size 640x480 with 1 Axes>"
      ]
     },
     "metadata": {},
     "output_type": "display_data"
    }
   ],
   "source": [
    "fig, ax = plt.subplots()\n",
    "\n",
    "ax.bar(\n",
    "    ca_or.index,\n",
    "    ca_or['CA'],\n",
    "    label = \"California\"\n",
    ")\n",
    "\n",
    "ax.bar(\n",
    "    ca_or.index,\n",
    "    ca_or['OR'],\n",
    "    label = \"Oregon\",\n",
    "    bottom = ca_or[\"CA\"]\n",
    ")\n",
    "\n",
    "ax.bar(\n",
    "    ca_or.index,\n",
    "    ca_or['WA'],\n",
    "    label = \"Washington\",\n",
    "    bottom = ca_or[\"CA\"] + ca_or[\"OR\"]\n",
    ")\n",
    "\n",
    "ax.set_title(\"Units Sales of Homes in CA and OR\")\n",
    "ax.set_ylabel(\"Homes Sold\")\n",
    "\n",
    "ax.legend()\n",
    ";"
   ]
  },
  {
   "cell_type": "code",
   "execution_count": 16,
   "id": "3b6c285d",
   "metadata": {},
   "outputs": [
    {
     "data": {
      "text/plain": [
       "''"
      ]
     },
     "execution_count": 16,
     "metadata": {},
     "output_type": "execute_result"
    },
    {
     "data": {
      "image/png": "[encoded data removed]",
      "text/plain": [
       "<Figure size 640x480 with 1 Axes>"
      ]
     },
     "metadata": {},
     "output_type": "display_data"
    }
   ],
   "source": [
    "#easier to do in Seaborn or pandas Matplotlib API\n",
    "\n",
    "fig, ax = plt.subplots()\n",
    "\n",
    "width = .35\n",
    "x = np.arange(3) #length of index\n",
    "\n",
    "ax.bar(\n",
    "    x-width/2,\n",
    "    ca_or['CA'],\n",
    "    width = width,\n",
    "    label = \"California\"\n",
    ")\n",
    "\n",
    "ax.bar(x+width/2,\n",
    "      ca_or['OR'],\n",
    "       width = width,\n",
    "       label = \"oregon\",\n",
    "       color = 'orange'\n",
    "      )\n",
    "ax.set_title(\"Fewer Homes Sold in Oregon Across All Price Ranges\")\n",
    "ax.set_xlabel(\"Price Range\")\n",
    "ax.set_ylabel(\"Homes Sold\")\n",
    "ax.set_xticks(x)\n",
    "ax.set_xticklabels(ca_or.index)\n",
    "\n",
    "ax.legend()\n",
    ";"
   ]
  },
  {
   "cell_type": "code",
   "execution_count": 17,
   "id": "c99c72d5",
   "metadata": {},
   "outputs": [],
   "source": [
    "ca_or2 = housing_raw.loc[housing_raw['region_name'].str[-2:].isin([\"CA\", \"OR\", \"WA\"])]\n",
    "ca_or2 = ca_or2.assign(\n",
    "    price_range = pd.cut(\n",
    "        ca_or2.loc[:, \"median_active_list_price\"],\n",
    "        [0, 400000, 600000, 2000000],\n",
    "        labels = [\"0-400K\", \"400-600K\", \"600K+\"]),\n",
    "    state = ca_or2[\"region_name\"].str[-2:])"
   ]
  },
  {
   "cell_type": "code",
   "execution_count": 18,
   "id": "adc3ee9d",
   "metadata": {},
   "outputs": [
    {
     "data": {
      "text/html": [
       "<div>\n",
       "<style scoped>\n",
       "    .dataframe tbody tr th:only-of-type {\n",
       "        vertical-align: middle;\n",
       "    }\n",
       "\n",
       "    .dataframe tbody tr th {\n",
       "        vertical-align: top;\n",
       "    }\n",
       "\n",
       "    .dataframe thead th {\n",
       "        text-align: right;\n",
       "    }\n",
       "</style>\n",
       "<table border=\"1\" class=\"dataframe\">\n",
       "  <thead>\n",
       "    <tr style=\"text-align: right;\">\n",
       "      <th></th>\n",
       "      <th>region_name</th>\n",
       "      <th>period_begin</th>\n",
       "      <th>period_end</th>\n",
       "      <th>total_homes_sold</th>\n",
       "      <th>inventory</th>\n",
       "      <th>active_listings</th>\n",
       "      <th>age_of_inventory</th>\n",
       "      <th>median_active_list_price</th>\n",
       "      <th>months_of_supply</th>\n",
       "      <th>price_range</th>\n",
       "      <th>state</th>\n",
       "    </tr>\n",
       "  </thead>\n",
       "  <tbody>\n",
       "    <tr>\n",
       "      <th>6</th>\n",
       "      <td>Sacramento County, CA</td>\n",
       "      <td>2020-06-22</td>\n",
       "      <td>2020-09-13</td>\n",
       "      <td>5107</td>\n",
       "      <td>1729.0</td>\n",
       "      <td>2206.0</td>\n",
       "      <td>27.5</td>\n",
       "      <td>445540.9</td>\n",
       "      <td>5.235794</td>\n",
       "      <td>400-600K</td>\n",
       "      <td>CA</td>\n",
       "    </tr>\n",
       "    <tr>\n",
       "      <th>19</th>\n",
       "      <td>Garfield County, WA</td>\n",
       "      <td>2019-06-17</td>\n",
       "      <td>2019-09-08</td>\n",
       "      <td>7</td>\n",
       "      <td>9.0</td>\n",
       "      <td>10.0</td>\n",
       "      <td>52.7</td>\n",
       "      <td>152666.6</td>\n",
       "      <td>9.333333</td>\n",
       "      <td>0-400K</td>\n",
       "      <td>WA</td>\n",
       "    </tr>\n",
       "    <tr>\n",
       "      <th>26</th>\n",
       "      <td>Gilliam County, OR</td>\n",
       "      <td>2018-06-18</td>\n",
       "      <td>2018-09-09</td>\n",
       "      <td>3</td>\n",
       "      <td>9.0</td>\n",
       "      <td>9.0</td>\n",
       "      <td>95.6</td>\n",
       "      <td>143037.5</td>\n",
       "      <td>9.000000</td>\n",
       "      <td>0-400K</td>\n",
       "      <td>OR</td>\n",
       "    </tr>\n",
       "    <tr>\n",
       "      <th>99</th>\n",
       "      <td>Klickitat County, WA</td>\n",
       "      <td>2017-04-17</td>\n",
       "      <td>2017-07-09</td>\n",
       "      <td>48</td>\n",
       "      <td>53.0</td>\n",
       "      <td>58.0</td>\n",
       "      <td>87.2</td>\n",
       "      <td>326237.5</td>\n",
       "      <td>16.193434</td>\n",
       "      <td>0-400K</td>\n",
       "      <td>WA</td>\n",
       "    </tr>\n",
       "    <tr>\n",
       "      <th>124</th>\n",
       "      <td>Jefferson County, WA</td>\n",
       "      <td>2017-02-06</td>\n",
       "      <td>2017-04-30</td>\n",
       "      <td>138</td>\n",
       "      <td>177.0</td>\n",
       "      <td>190.0</td>\n",
       "      <td>127.8</td>\n",
       "      <td>404637.5</td>\n",
       "      <td>22.486617</td>\n",
       "      <td>400-600K</td>\n",
       "      <td>WA</td>\n",
       "    </tr>\n",
       "  </tbody>\n",
       "</table>\n",
       "</div>"
      ],
      "text/plain": [
       "               region_name period_begin period_end  total_homes_sold  \\\n",
       "6    Sacramento County, CA   2020-06-22 2020-09-13              5107   \n",
       "19     Garfield County, WA   2019-06-17 2019-09-08                 7   \n",
       "26      Gilliam County, OR   2018-06-18 2018-09-09                 3   \n",
       "99    Klickitat County, WA   2017-04-17 2017-07-09                48   \n",
       "124   Jefferson County, WA   2017-02-06 2017-04-30               138   \n",
       "\n",
       "     inventory  active_listings  age_of_inventory  median_active_list_price  \\\n",
       "6       1729.0           2206.0              27.5                  445540.9   \n",
       "19         9.0             10.0              52.7                  152666.6   \n",
       "26         9.0              9.0              95.6                  143037.5   \n",
       "99        53.0             58.0              87.2                  326237.5   \n",
       "124      177.0            190.0             127.8                  404637.5   \n",
       "\n",
       "     months_of_supply price_range state  \n",
       "6            5.235794    400-600K    CA  \n",
       "19           9.333333      0-400K    WA  \n",
       "26           9.000000      0-400K    OR  \n",
       "99          16.193434      0-400K    WA  \n",
       "124         22.486617    400-600K    WA  "
      ]
     },
     "execution_count": 18,
     "metadata": {},
     "output_type": "execute_result"
    }
   ],
   "source": [
    "ca_or2.head()"
   ]
  },
  {
   "cell_type": "code",
   "execution_count": 19,
   "id": "8e38fde2",
   "metadata": {},
   "outputs": [
    {
     "data": {
      "image/png": "[encoded data removed]",
      "text/plain": [
       "<Figure size 640x480 with 1 Axes>"
      ]
     },
     "metadata": {},
     "output_type": "display_data"
    }
   ],
   "source": [
    "#Seaborn\n",
    "sns.barplot(\n",
    "    x ='price_range',\n",
    "    y = 'inventory',\n",
    "    hue = 'state',\n",
    "    estimator = sum,\n",
    "    data = ca_or2\n",
    ");"
   ]
  },
  {
   "cell_type": "code",
   "execution_count": 20,
   "id": "76055b54",
   "metadata": {},
   "outputs": [
    {
     "data": {
      "image/png": "[encoded data removed]",
      "text/plain": [
       "<Figure size 640x480 with 1 Axes>"
      ]
     },
     "metadata": {},
     "output_type": "display_data"
    }
   ],
   "source": [
    "fig, ax =plt.subplots()\n",
    "\n",
    "width = .25\n",
    "\n",
    "x1 = np.arange(len(ca_or))\n",
    "x2 = [x + width for x in x1]\n",
    "x3 = [x + width for x in x2]\n",
    "\n",
    "ax.bar(\n",
    "    x1,\n",
    "    ca_or[\"CA\"],\n",
    "    label = \"California\",\n",
    "    width = width\n",
    ")\n",
    "\n",
    "ax.bar(\n",
    "    x2,\n",
    "    ca_or[\"OR\"],\n",
    "    label = \"Oregon\",\n",
    "    width = width\n",
    ")\n",
    "\n",
    "ax.bar(\n",
    "    x3,\n",
    "    ca_or[\"WA\"],\n",
    "    label = \"Washington\",\n",
    "    width = width\n",
    ")\n",
    "\n",
    "ax.set_title(\"Units Sales for Homes in CA and OR\")\n",
    "ax.set_ylabel(\"Homes Sold\")\n",
    "ax.set_xlabel(\"Price Range\")\n",
    "ax.set_xticks(x2)\n",
    "ax.set_xticklabels(ca_or.index)\n",
    "\n",
    "plt.xticks(\n",
    "    x2,\n",
    "    ca_or.index,\n",
    "    rotation = 45\n",
    ")\n",
    "\n",
    "ax.legend();"
   ]
  },
  {
   "cell_type": "code",
   "execution_count": 21,
   "id": "2944be8e",
   "metadata": {},
   "outputs": [
    {
     "data": {
      "text/html": [
       "<div>\n",
       "<style scoped>\n",
       "    .dataframe tbody tr th:only-of-type {\n",
       "        vertical-align: middle;\n",
       "    }\n",
       "\n",
       "    .dataframe tbody tr th {\n",
       "        vertical-align: top;\n",
       "    }\n",
       "\n",
       "    .dataframe thead th {\n",
       "        text-align: right;\n",
       "    }\n",
       "</style>\n",
       "<table border=\"1\" class=\"dataframe\">\n",
       "  <thead>\n",
       "    <tr style=\"text-align: right;\">\n",
       "      <th></th>\n",
       "      <th>region_name</th>\n",
       "      <th>period_begin</th>\n",
       "      <th>period_end</th>\n",
       "      <th>total_homes_sold</th>\n",
       "      <th>inventory</th>\n",
       "      <th>active_listings</th>\n",
       "      <th>age_of_inventory</th>\n",
       "      <th>median_active_list_price</th>\n",
       "      <th>months_of_supply</th>\n",
       "      <th>price_range</th>\n",
       "      <th>state</th>\n",
       "    </tr>\n",
       "  </thead>\n",
       "  <tbody>\n",
       "    <tr>\n",
       "      <th>6</th>\n",
       "      <td>Sacramento County, CA</td>\n",
       "      <td>2020-06-22</td>\n",
       "      <td>2020-09-13</td>\n",
       "      <td>5107</td>\n",
       "      <td>1729.0</td>\n",
       "      <td>2206.0</td>\n",
       "      <td>27.5</td>\n",
       "      <td>445540.9</td>\n",
       "      <td>5.235794</td>\n",
       "      <td>400-600K</td>\n",
       "      <td>CA</td>\n",
       "    </tr>\n",
       "    <tr>\n",
       "      <th>19</th>\n",
       "      <td>Garfield County, WA</td>\n",
       "      <td>2019-06-17</td>\n",
       "      <td>2019-09-08</td>\n",
       "      <td>7</td>\n",
       "      <td>9.0</td>\n",
       "      <td>10.0</td>\n",
       "      <td>52.7</td>\n",
       "      <td>152666.6</td>\n",
       "      <td>9.333333</td>\n",
       "      <td>0-400K</td>\n",
       "      <td>WA</td>\n",
       "    </tr>\n",
       "    <tr>\n",
       "      <th>26</th>\n",
       "      <td>Gilliam County, OR</td>\n",
       "      <td>2018-06-18</td>\n",
       "      <td>2018-09-09</td>\n",
       "      <td>3</td>\n",
       "      <td>9.0</td>\n",
       "      <td>9.0</td>\n",
       "      <td>95.6</td>\n",
       "      <td>143037.5</td>\n",
       "      <td>9.000000</td>\n",
       "      <td>0-400K</td>\n",
       "      <td>OR</td>\n",
       "    </tr>\n",
       "    <tr>\n",
       "      <th>99</th>\n",
       "      <td>Klickitat County, WA</td>\n",
       "      <td>2017-04-17</td>\n",
       "      <td>2017-07-09</td>\n",
       "      <td>48</td>\n",
       "      <td>53.0</td>\n",
       "      <td>58.0</td>\n",
       "      <td>87.2</td>\n",
       "      <td>326237.5</td>\n",
       "      <td>16.193434</td>\n",
       "      <td>0-400K</td>\n",
       "      <td>WA</td>\n",
       "    </tr>\n",
       "    <tr>\n",
       "      <th>124</th>\n",
       "      <td>Jefferson County, WA</td>\n",
       "      <td>2017-02-06</td>\n",
       "      <td>2017-04-30</td>\n",
       "      <td>138</td>\n",
       "      <td>177.0</td>\n",
       "      <td>190.0</td>\n",
       "      <td>127.8</td>\n",
       "      <td>404637.5</td>\n",
       "      <td>22.486617</td>\n",
       "      <td>400-600K</td>\n",
       "      <td>WA</td>\n",
       "    </tr>\n",
       "  </tbody>\n",
       "</table>\n",
       "</div>"
      ],
      "text/plain": [
       "               region_name period_begin period_end  total_homes_sold  \\\n",
       "6    Sacramento County, CA   2020-06-22 2020-09-13              5107   \n",
       "19     Garfield County, WA   2019-06-17 2019-09-08                 7   \n",
       "26      Gilliam County, OR   2018-06-18 2018-09-09                 3   \n",
       "99    Klickitat County, WA   2017-04-17 2017-07-09                48   \n",
       "124   Jefferson County, WA   2017-02-06 2017-04-30               138   \n",
       "\n",
       "     inventory  active_listings  age_of_inventory  median_active_list_price  \\\n",
       "6       1729.0           2206.0              27.5                  445540.9   \n",
       "19         9.0             10.0              52.7                  152666.6   \n",
       "26         9.0              9.0              95.6                  143037.5   \n",
       "99        53.0             58.0              87.2                  326237.5   \n",
       "124      177.0            190.0             127.8                  404637.5   \n",
       "\n",
       "     months_of_supply price_range state  \n",
       "6            5.235794    400-600K    CA  \n",
       "19           9.333333      0-400K    WA  \n",
       "26           9.000000      0-400K    OR  \n",
       "99          16.193434      0-400K    WA  \n",
       "124         22.486617    400-600K    WA  "
      ]
     },
     "execution_count": 21,
     "metadata": {},
     "output_type": "execute_result"
    }
   ],
   "source": [
    "ca_or2.head(5)"
   ]
  },
  {
   "cell_type": "code",
   "execution_count": 24,
   "id": "b07c4cc5",
   "metadata": {},
   "outputs": [],
   "source": [
    "cal_only = ca_or2[ca_or2['state'] == \"CA\"] \n",
    "\n",
    "cal_only = cal_only.drop(columns = ['region_name', 'period_end', 'total_homes_sold', 'active_listings', \n",
    "                                'age_of_inventory', 'months_of_supply', 'price_range', 'state']) \n",
    "\n",
    "result = cal_only.groupby(cal_only.period_begin.dt.to_period(\"Y\")).median(['inventory', 'median_active_list_price']).round(0)"
   ]
  },
  {
   "cell_type": "code",
   "execution_count": 25,
   "id": "6b0c1ac0",
   "metadata": {},
   "outputs": [
    {
     "data": {
      "text/html": [
       "<div>\n",
       "<style scoped>\n",
       "    .dataframe tbody tr th:only-of-type {\n",
       "        vertical-align: middle;\n",
       "    }\n",
       "\n",
       "    .dataframe tbody tr th {\n",
       "        vertical-align: top;\n",
       "    }\n",
       "\n",
       "    .dataframe thead th {\n",
       "        text-align: right;\n",
       "    }\n",
       "</style>\n",
       "<table border=\"1\" class=\"dataframe\">\n",
       "  <thead>\n",
       "    <tr style=\"text-align: right;\">\n",
       "      <th></th>\n",
       "      <th>inventory</th>\n",
       "      <th>median_active_list_price</th>\n",
       "    </tr>\n",
       "    <tr>\n",
       "      <th>period_begin</th>\n",
       "      <th></th>\n",
       "      <th></th>\n",
       "    </tr>\n",
       "  </thead>\n",
       "  <tbody>\n",
       "    <tr>\n",
       "      <th>2017</th>\n",
       "      <td>462.0</td>\n",
       "      <td>418783.0</td>\n",
       "    </tr>\n",
       "    <tr>\n",
       "      <th>2018</th>\n",
       "      <td>505.0</td>\n",
       "      <td>410358.0</td>\n",
       "    </tr>\n",
       "    <tr>\n",
       "      <th>2019</th>\n",
       "      <td>592.0</td>\n",
       "      <td>420600.0</td>\n",
       "    </tr>\n",
       "    <tr>\n",
       "      <th>2020</th>\n",
       "      <td>438.0</td>\n",
       "      <td>454938.0</td>\n",
       "    </tr>\n",
       "    <tr>\n",
       "      <th>2021</th>\n",
       "      <td>327.0</td>\n",
       "      <td>513353.0</td>\n",
       "    </tr>\n",
       "  </tbody>\n",
       "</table>\n",
       "</div>"
      ],
      "text/plain": [
       "              inventory  median_active_list_price\n",
       "period_begin                                     \n",
       "2017              462.0                  418783.0\n",
       "2018              505.0                  410358.0\n",
       "2019              592.0                  420600.0\n",
       "2020              438.0                  454938.0\n",
       "2021              327.0                  513353.0"
      ]
     },
     "execution_count": 25,
     "metadata": {},
     "output_type": "execute_result"
    }
   ],
   "source": [
    "result.head()"
   ]
  },
  {
   "cell_type": "code",
   "execution_count": 30,
   "id": "b3a9b5e2",
   "metadata": {},
   "outputs": [
    {
     "data": {
      "text/plain": [
       "''"
      ]
     },
     "execution_count": 30,
     "metadata": {},
     "output_type": "execute_result"
    },
    {
     "data": {
      "image/png": "[encoded data removed]",
      "text/plain": [
       "<Figure size 640x480 with 2 Axes>"
      ]
     },
     "metadata": {},
     "output_type": "display_data"
    }
   ],
   "source": [
    "fig, ax = plt.subplots()\n",
    "x = np.arange(2017, 2023)\n",
    "ax.set_title(\"Inventory Decrease Drives Up Prices in CA\")\n",
    "ax.plot(x,\n",
    "        result['median_active_list_price'],\n",
    "        label = 'Median Price'\n",
    "       )\n",
    "ax.set_ylim(0, 1500000)\n",
    "ax.set_ylabel(\"Price (M)\")\n",
    "ax.legend(loc = 'upper right')\n",
    "\n",
    "ax2 = ax.twinx()\n",
    "\n",
    "ax2.bar(x,\n",
    "       result['inventory'],\n",
    "        color = \"orange\",\n",
    "        label = \"Inventory\",\n",
    "        alpha = .3\n",
    "       )\n",
    "ax2.legend(loc = \"upper left\"),\n",
    "ax2.set_ylabel(\"Median Inventory\")\n",
    ";"
   ]
  },
  {
   "cell_type": "code",
   "execution_count": 32,
   "id": "32c9146b",
   "metadata": {},
   "outputs": [
    {
     "data": {
      "text/html": [
       "<div>\n",
       "<style scoped>\n",
       "    .dataframe tbody tr th:only-of-type {\n",
       "        vertical-align: middle;\n",
       "    }\n",
       "\n",
       "    .dataframe tbody tr th {\n",
       "        vertical-align: top;\n",
       "    }\n",
       "\n",
       "    .dataframe thead th {\n",
       "        text-align: right;\n",
       "    }\n",
       "</style>\n",
       "<table border=\"1\" class=\"dataframe\">\n",
       "  <thead>\n",
       "    <tr style=\"text-align: right;\">\n",
       "      <th></th>\n",
       "      <th>inventory</th>\n",
       "      <th>median_active_list_price</th>\n",
       "    </tr>\n",
       "    <tr>\n",
       "      <th>period_begin</th>\n",
       "      <th></th>\n",
       "      <th></th>\n",
       "    </tr>\n",
       "  </thead>\n",
       "  <tbody>\n",
       "    <tr>\n",
       "      <th>2017-01-02</th>\n",
       "      <td>5468.0</td>\n",
       "      <td>618570.8</td>\n",
       "    </tr>\n",
       "    <tr>\n",
       "      <th>2017-01-09</th>\n",
       "      <td>5493.0</td>\n",
       "      <td>621737.5</td>\n",
       "    </tr>\n",
       "    <tr>\n",
       "      <th>2017-01-16</th>\n",
       "      <td>5520.0</td>\n",
       "      <td>625820.8</td>\n",
       "    </tr>\n",
       "    <tr>\n",
       "      <th>2017-01-23</th>\n",
       "      <td>5546.0</td>\n",
       "      <td>629491.6</td>\n",
       "    </tr>\n",
       "    <tr>\n",
       "      <th>2017-01-30</th>\n",
       "      <td>5581.0</td>\n",
       "      <td>632824.0</td>\n",
       "    </tr>\n",
       "  </tbody>\n",
       "</table>\n",
       "</div>"
      ],
      "text/plain": [
       "              inventory  median_active_list_price\n",
       "period_begin                                     \n",
       "2017-01-02       5468.0                  618570.8\n",
       "2017-01-09       5493.0                  621737.5\n",
       "2017-01-16       5520.0                  625820.8\n",
       "2017-01-23       5546.0                  629491.6\n",
       "2017-01-30       5581.0                  632824.0"
      ]
     },
     "execution_count": 32,
     "metadata": {},
     "output_type": "execute_result"
    }
   ],
   "source": [
    "sd_dual = (ca_housing\n",
    "          .loc[ca_housing['region_name'] == \"San Diego\",\n",
    "                         ['inventory', 'median_active_list_price']]\n",
    "               ).sort_index()\n",
    "sd_dual.head()"
   ]
  },
  {
   "cell_type": "code",
   "execution_count": 41,
   "id": "2cfbf2b3",
   "metadata": {},
   "outputs": [
    {
     "data": {
      "text/plain": [
       "''"
      ]
     },
     "execution_count": 41,
     "metadata": {},
     "output_type": "execute_result"
    },
    {
     "data": {
      "image/png": "[encoded data removed]",
      "text/plain": [
       "<Figure size 640x480 with 2 Axes>"
      ]
     },
     "metadata": {},
     "output_type": "display_data"
    }
   ],
   "source": [
    "fig, ax = plt.subplots()\n",
    "\n",
    "width = 5\n",
    "\n",
    "ax.plot(\n",
    "    sd_dual['median_active_list_price'],\n",
    "    color = 'green',\n",
    "    alpha = .4,\n",
    "    label = 'Price'\n",
    ")\n",
    "\n",
    "#ax.legend()\n",
    "\n",
    "ax2 = ax.twinx()\n",
    "\n",
    "ax2.bar(sd_dual.index,\n",
    "       sd_dual['inventory'],\n",
    "        width= width,\n",
    "        alpha = .3,\n",
    "        label = 'inventory'\n",
    "       )\n",
    "\n",
    "#ax2.legend()\n",
    "\n",
    "fig.legend(loc = 'upper center')\n",
    ";"
   ]
  },
  {
   "cell_type": "code",
   "execution_count": 45,
   "id": "5305eadd",
   "metadata": {},
   "outputs": [
    {
     "data": {
      "text/html": [
       "<div>\n",
       "<style scoped>\n",
       "    .dataframe tbody tr th:only-of-type {\n",
       "        vertical-align: middle;\n",
       "    }\n",
       "\n",
       "    .dataframe tbody tr th {\n",
       "        vertical-align: top;\n",
       "    }\n",
       "\n",
       "    .dataframe thead th {\n",
       "        text-align: right;\n",
       "    }\n",
       "</style>\n",
       "<table border=\"1\" class=\"dataframe\">\n",
       "  <thead>\n",
       "    <tr style=\"text-align: right;\">\n",
       "      <th></th>\n",
       "      <th>inventory</th>\n",
       "      <th>median_active_list_price</th>\n",
       "    </tr>\n",
       "    <tr>\n",
       "      <th>period_begin</th>\n",
       "      <th></th>\n",
       "      <th></th>\n",
       "    </tr>\n",
       "  </thead>\n",
       "  <tbody>\n",
       "    <tr>\n",
       "      <th>2017-12-31</th>\n",
       "      <td>5986.730769</td>\n",
       "      <td>645314.217308</td>\n",
       "    </tr>\n",
       "    <tr>\n",
       "      <th>2018-12-31</th>\n",
       "      <td>7438.433962</td>\n",
       "      <td>658434.637736</td>\n",
       "    </tr>\n",
       "    <tr>\n",
       "      <th>2019-12-31</th>\n",
       "      <td>6794.538462</td>\n",
       "      <td>685614.486538</td>\n",
       "    </tr>\n",
       "    <tr>\n",
       "      <th>2020-12-31</th>\n",
       "      <td>4494.076923</td>\n",
       "      <td>735517.426923</td>\n",
       "    </tr>\n",
       "    <tr>\n",
       "      <th>2021-12-31</th>\n",
       "      <td>2975.961538</td>\n",
       "      <td>803811.036538</td>\n",
       "    </tr>\n",
       "  </tbody>\n",
       "</table>\n",
       "</div>"
      ],
      "text/plain": [
       "                inventory  median_active_list_price\n",
       "period_begin                                       \n",
       "2017-12-31    5986.730769             645314.217308\n",
       "2018-12-31    7438.433962             658434.637736\n",
       "2019-12-31    6794.538462             685614.486538\n",
       "2020-12-31    4494.076923             735517.426923\n",
       "2021-12-31    2975.961538             803811.036538"
      ]
     },
     "execution_count": 45,
     "metadata": {},
     "output_type": "execute_result"
    }
   ],
   "source": [
    "sd_dual2 = sd_dual.resample('Y').mean()\n",
    "sd_dual2.head()"
   ]
  },
  {
   "cell_type": "code",
   "execution_count": 51,
   "id": "99480c41",
   "metadata": {},
   "outputs": [
    {
     "data": {
      "text/plain": [
       "''"
      ]
     },
     "execution_count": 51,
     "metadata": {},
     "output_type": "execute_result"
    },
    {
     "data": {
      "image/png": "[encoded data removed]",
      "text/plain": [
       "<Figure size 640x480 with 2 Axes>"
      ]
     },
     "metadata": {},
     "output_type": "display_data"
    }
   ],
   "source": [
    "fig, ax = plt.subplots()\n",
    "\n",
    "width = 200 #days, 365 will create a solid block\n",
    "\n",
    "ax.plot(\n",
    "    sd_dual2['median_active_list_price'],\n",
    "    color = 'green',\n",
    "    alpha = .4,\n",
    "    label = 'Price'\n",
    ")\n",
    "\n",
    "#ax.legend()\n",
    "\n",
    "ax2 = ax.twinx()\n",
    "\n",
    "ax2.bar(sd_dual2.index,\n",
    "       sd_dual2['inventory'],\n",
    "        width= width,\n",
    "        alpha = .3,\n",
    "        label = 'inventory'\n",
    "       )\n",
    "\n",
    "#ax2.legend()\n",
    "\n",
    "fig.legend(loc = 'upper center')\n",
    ";"
   ]
  },
  {
   "cell_type": "code",
   "execution_count": null,
   "id": "1a242522",
   "metadata": {},
   "outputs": [],
   "source": []
  }
 ],
 "metadata": {
  "kernelspec": {
   "display_name": "Python 3 (ipykernel)",
   "language": "python",
   "name": "python3"
  },
  "language_info": {
   "codemirror_mode": {
    "name": "ipython",
    "version": 3
   },
   "file_extension": ".py",
   "mimetype": "text/x-python",
   "name": "python",
   "nbconvert_exporter": "python",
   "pygments_lexer": "ipython3",
   "version": "3.9.13"
  }
 },
 "nbformat": 4,
 "nbformat_minor": 5
}
