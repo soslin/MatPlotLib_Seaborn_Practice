{
 "cells": [
  {
   "cell_type": "code",
   "execution_count": 41,
   "id": "5e480fc9",
   "metadata": {},
   "outputs": [],
   "source": [
    "import pandas as pd\n",
    "import numpy as np\n",
    "\n",
    "import matplotlib.pyplot as plt\n",
    "import matplotlib.patches as mpatches\n",
    "import seaborn as sns"
   ]
  },
  {
   "cell_type": "code",
   "execution_count": 10,
   "id": "a99ba876",
   "metadata": {},
   "outputs": [
    {
     "data": {
      "text/plain": [
       "''"
      ]
     },
     "execution_count": 10,
     "metadata": {},
     "output_type": "execute_result"
    },
    {
     "data": {
      "image/png": "[encoded data removed]",
      "text/plain": [
       "<Figure size 640x480 with 1 Axes>"
      ]
     },
     "metadata": {},
     "output_type": "display_data"
    }
   ],
   "source": [
    "fig, ax = plt.subplots()\n",
    "\n",
    "labels = ['e', 'd', 'c', 'b', 'a']\n",
    "data = [0, 1, 2, 3, 4]\n",
    "ax.bar(labels, data)\n",
    "\n",
    ";"
   ]
  },
  {
   "cell_type": "code",
   "execution_count": 12,
   "id": "872407e0",
   "metadata": {},
   "outputs": [
    {
     "data": {
      "text/plain": [
       "''"
      ]
     },
     "execution_count": 12,
     "metadata": {},
     "output_type": "execute_result"
    },
    {
     "data": {
      "image/png": "[encoded data removed]",
      "text/plain": [
       "<Figure size 640x480 with 1 Axes>"
      ]
     },
     "metadata": {},
     "output_type": "display_data"
    }
   ],
   "source": [
    "fig, ax = plt.subplots()\n",
    "\n",
    "labels = ['e', 'd', 'c', 'b', 'a']\n",
    "data = [0, 1, 2, 3, 4]\n",
    "ax.barh(labels, data)\n",
    "\n",
    ";"
   ]
  },
  {
   "cell_type": "code",
   "execution_count": 14,
   "id": "a4f5dcd2",
   "metadata": {},
   "outputs": [
    {
     "data": {
      "text/plain": [
       "''"
      ]
     },
     "execution_count": 14,
     "metadata": {},
     "output_type": "execute_result"
    },
    {
     "data": {
      "image/png": "[encoded data removed]",
      "text/plain": [
       "<Figure size 640x480 with 1 Axes>"
      ]
     },
     "metadata": {},
     "output_type": "display_data"
    }
   ],
   "source": [
    "fig, ax = plt.subplots()\n",
    "\n",
    "labels = ['e', 'd', 'c', 'b', 'a'][::-1] #reverse order\n",
    "data = [0, 1, 2, 3, 4][::-1] #got to do both\n",
    "ax.barh(labels, data)\n",
    "\n",
    ";"
   ]
  },
  {
   "cell_type": "code",
   "execution_count": 2,
   "id": "ade5ce00",
   "metadata": {},
   "outputs": [],
   "source": [
    "housing_raw = pd.read_csv(\n",
    "    '../Data/housing_data.csv',\n",
    "    parse_dates = ['period_begin', 'period_end'],\n",
    "    dtype = {'total_homes_sold' : 'Int32', 'region_name' : 'category'} \n",
    ") #category cuts down on processing time"
   ]
  },
  {
   "cell_type": "code",
   "execution_count": 19,
   "id": "ed5627ba",
   "metadata": {},
   "outputs": [
    {
     "data": {
      "text/html": [
       "<div>\n",
       "<style scoped>\n",
       "    .dataframe tbody tr th:only-of-type {\n",
       "        vertical-align: middle;\n",
       "    }\n",
       "\n",
       "    .dataframe tbody tr th {\n",
       "        vertical-align: top;\n",
       "    }\n",
       "\n",
       "    .dataframe thead th {\n",
       "        text-align: right;\n",
       "    }\n",
       "</style>\n",
       "<table border=\"1\" class=\"dataframe\">\n",
       "  <thead>\n",
       "    <tr style=\"text-align: right;\">\n",
       "      <th></th>\n",
       "      <th>region_name</th>\n",
       "      <th>period_end</th>\n",
       "      <th>total_homes_sold</th>\n",
       "      <th>inventory</th>\n",
       "      <th>active_listings</th>\n",
       "      <th>age_of_inventory</th>\n",
       "      <th>median_active_list_price</th>\n",
       "      <th>months_of_supply</th>\n",
       "    </tr>\n",
       "    <tr>\n",
       "      <th>period_begin</th>\n",
       "      <th></th>\n",
       "      <th></th>\n",
       "      <th></th>\n",
       "      <th></th>\n",
       "      <th></th>\n",
       "      <th></th>\n",
       "      <th></th>\n",
       "      <th></th>\n",
       "    </tr>\n",
       "  </thead>\n",
       "  <tbody>\n",
       "    <tr>\n",
       "      <th>2017-01-02</th>\n",
       "      <td>Mono</td>\n",
       "      <td>2017-03-26</td>\n",
       "      <td>97</td>\n",
       "      <td>153.0</td>\n",
       "      <td>161.0</td>\n",
       "      <td>89.7</td>\n",
       "      <td>450745.8</td>\n",
       "      <td>21.208631</td>\n",
       "    </tr>\n",
       "    <tr>\n",
       "      <th>2017-01-02</th>\n",
       "      <td>Yolo</td>\n",
       "      <td>2017-03-26</td>\n",
       "      <td>336</td>\n",
       "      <td>234.0</td>\n",
       "      <td>272.0</td>\n",
       "      <td>48.5</td>\n",
       "      <td>447859.2</td>\n",
       "      <td>9.857470</td>\n",
       "    </tr>\n",
       "    <tr>\n",
       "      <th>2017-01-02</th>\n",
       "      <td>Stanislaus</td>\n",
       "      <td>2017-03-26</td>\n",
       "      <td>1192</td>\n",
       "      <td>912.0</td>\n",
       "      <td>1043.0</td>\n",
       "      <td>55.3</td>\n",
       "      <td>300302.0</td>\n",
       "      <td>10.971331</td>\n",
       "    </tr>\n",
       "    <tr>\n",
       "      <th>2017-01-02</th>\n",
       "      <td>Shasta</td>\n",
       "      <td>2017-03-26</td>\n",
       "      <td>7</td>\n",
       "      <td>17.0</td>\n",
       "      <td>18.0</td>\n",
       "      <td>147.5</td>\n",
       "      <td>489020.8</td>\n",
       "      <td>17.333333</td>\n",
       "    </tr>\n",
       "    <tr>\n",
       "      <th>2017-01-02</th>\n",
       "      <td>Lassen</td>\n",
       "      <td>2017-03-26</td>\n",
       "      <td>2</td>\n",
       "      <td>5.0</td>\n",
       "      <td>5.0</td>\n",
       "      <td>98.8</td>\n",
       "      <td>198750.0</td>\n",
       "      <td>5.500000</td>\n",
       "    </tr>\n",
       "  </tbody>\n",
       "</table>\n",
       "</div>"
      ],
      "text/plain": [
       "             region_name period_end  total_homes_sold  inventory  \\\n",
       "period_begin                                                       \n",
       "2017-01-02          Mono 2017-03-26                97      153.0   \n",
       "2017-01-02          Yolo 2017-03-26               336      234.0   \n",
       "2017-01-02    Stanislaus 2017-03-26              1192      912.0   \n",
       "2017-01-02        Shasta 2017-03-26                 7       17.0   \n",
       "2017-01-02        Lassen 2017-03-26                 2        5.0   \n",
       "\n",
       "              active_listings  age_of_inventory  median_active_list_price  \\\n",
       "period_begin                                                                \n",
       "2017-01-02              161.0              89.7                  450745.8   \n",
       "2017-01-02              272.0              48.5                  447859.2   \n",
       "2017-01-02             1043.0              55.3                  300302.0   \n",
       "2017-01-02               18.0             147.5                  489020.8   \n",
       "2017-01-02                5.0              98.8                  198750.0   \n",
       "\n",
       "              months_of_supply  \n",
       "period_begin                    \n",
       "2017-01-02           21.208631  \n",
       "2017-01-02            9.857470  \n",
       "2017-01-02           10.971331  \n",
       "2017-01-02           17.333333  \n",
       "2017-01-02            5.500000  "
      ]
     },
     "execution_count": 19,
     "metadata": {},
     "output_type": "execute_result"
    }
   ],
   "source": [
    "ca_housing = (housing_raw.loc[\n",
    "    (housing_raw['region_name'].str.contains('CA'))\n",
    "].assign(region_name = housing_raw['region_name'].str[0:-11]).set_index('period_begin').sort_index())\n",
    "\n",
    "ca_housing.head()"
   ]
  },
  {
   "cell_type": "code",
   "execution_count": 27,
   "id": "02ebd6bb",
   "metadata": {},
   "outputs": [],
   "source": [
    "total_sold = (ca_housing\n",
    "             .groupby('region_name')\n",
    "             .agg({'total_homes_sold' : 'sum'})\n",
    "              .sort_values('total_homes_sold', ascending = False)\n",
    "              .iloc[:10]\n",
    "             )"
   ]
  },
  {
   "cell_type": "code",
   "execution_count": 28,
   "id": "90e3c3b4",
   "metadata": {},
   "outputs": [
    {
     "data": {
      "text/html": [
       "<div>\n",
       "<style scoped>\n",
       "    .dataframe tbody tr th:only-of-type {\n",
       "        vertical-align: middle;\n",
       "    }\n",
       "\n",
       "    .dataframe tbody tr th {\n",
       "        vertical-align: top;\n",
       "    }\n",
       "\n",
       "    .dataframe thead th {\n",
       "        text-align: right;\n",
       "    }\n",
       "</style>\n",
       "<table border=\"1\" class=\"dataframe\">\n",
       "  <thead>\n",
       "    <tr style=\"text-align: right;\">\n",
       "      <th></th>\n",
       "      <th>total_homes_sold</th>\n",
       "    </tr>\n",
       "    <tr>\n",
       "      <th>region_name</th>\n",
       "      <th></th>\n",
       "    </tr>\n",
       "  </thead>\n",
       "  <tbody>\n",
       "    <tr>\n",
       "      <th>Los Angeles</th>\n",
       "      <td>4622703</td>\n",
       "    </tr>\n",
       "    <tr>\n",
       "      <th>San Diego</th>\n",
       "      <td>2373289</td>\n",
       "    </tr>\n",
       "    <tr>\n",
       "      <th>Riverside</th>\n",
       "      <td>2335243</td>\n",
       "    </tr>\n",
       "    <tr>\n",
       "      <th>Orange</th>\n",
       "      <td>2004799</td>\n",
       "    </tr>\n",
       "    <tr>\n",
       "      <th>San Bernardino</th>\n",
       "      <td>1705727</td>\n",
       "    </tr>\n",
       "    <tr>\n",
       "      <th>Sacramento</th>\n",
       "      <td>1256838</td>\n",
       "    </tr>\n",
       "    <tr>\n",
       "      <th>Santa Clara</th>\n",
       "      <td>967707</td>\n",
       "    </tr>\n",
       "    <tr>\n",
       "      <th>Alameda</th>\n",
       "      <td>925469</td>\n",
       "    </tr>\n",
       "    <tr>\n",
       "      <th>Contra Costa</th>\n",
       "      <td>921039</td>\n",
       "    </tr>\n",
       "    <tr>\n",
       "      <th>Fresno</th>\n",
       "      <td>608004</td>\n",
       "    </tr>\n",
       "  </tbody>\n",
       "</table>\n",
       "</div>"
      ],
      "text/plain": [
       "                total_homes_sold\n",
       "region_name                     \n",
       "Los Angeles              4622703\n",
       "San Diego                2373289\n",
       "Riverside                2335243\n",
       "Orange                   2004799\n",
       "San Bernardino           1705727\n",
       "Sacramento               1256838\n",
       "Santa Clara               967707\n",
       "Alameda                   925469\n",
       "Contra Costa              921039\n",
       "Fresno                    608004"
      ]
     },
     "execution_count": 28,
     "metadata": {},
     "output_type": "execute_result"
    }
   ],
   "source": [
    "total_sold"
   ]
  },
  {
   "cell_type": "code",
   "execution_count": 43,
   "id": "85993d6e",
   "metadata": {},
   "outputs": [
    {
     "data": {
      "image/png": "[encoded data removed]",
      "text/plain": [
       "<Figure size 640x480 with 1 Axes>"
      ]
     },
     "metadata": {},
     "output_type": "display_data"
    }
   ],
   "source": [
    "fig, ax = plt.subplots()\n",
    "colors = ['blue', 'blue', 'blue', 'blue', 'blue', 'red', 'orange', 'orange', 'orange', 'red']\n",
    "\n",
    "ax.bar(total_sold.index, total_sold['total_homes_sold'],\n",
    "         color = colors)\n",
    "\n",
    "socal = mpatches.Patch(color = 'blue', label = 'SoCal')\n",
    "central = mpatches.Patch(color = 'red', label = \"Central Valley\")\n",
    "bay = mpatches.Patch(color = 'orange', label = 'Bay Area')\n",
    "\n",
    "plt.legend(handles = [socal, central, bay], loc = 'upper right')\n",
    "\n",
    "ax.xaxis.set_tick_params(rotation = 30)"
   ]
  },
  {
   "cell_type": "code",
   "execution_count": null,
   "id": "2cdc75ad",
   "metadata": {},
   "outputs": [],
   "source": []
  }
 ],
 "metadata": {
  "kernelspec": {
   "display_name": "Python 3 (ipykernel)",
   "language": "python",
   "name": "python3"
  },
  "language_info": {
   "codemirror_mode": {
    "name": "ipython",
    "version": 3
   },
   "file_extension": ".py",
   "mimetype": "text/x-python",
   "name": "python",
   "nbconvert_exporter": "python",
   "pygments_lexer": "ipython3",
   "version": "3.9.13"
  }
 },
 "nbformat": 4,
 "nbformat_minor": 5
}
