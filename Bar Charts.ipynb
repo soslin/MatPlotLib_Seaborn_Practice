{
 "cells": [
  {
   "cell_type": "code",
   "execution_count": 41,
   "id": "6f294aa7",
   "metadata": {},
   "outputs": [],
   "source": [
    "import pandas as pd\n",
    "import numpy as np\n",
    "\n",
    "import matplotlib.pyplot as plt\n",
    "import matplotlib.patches as mpatches\n",
    "import seaborn as sns"
   ]
  },
  {
   "cell_type": "code",
   "execution_count": 10,
   "id": "fc567e5d",
   "metadata": {},
   "outputs": [
    {
     "data": {
      "text/plain": [
       "''"
      ]
     },
     "execution_count": 10,
     "metadata": {},
     "output_type": "execute_result"
    },
    {
     "data": {
      "image/png": "[encoded data removed]",
      "text/plain": [
       "<Figure size 640x480 with 1 Axes>"
      ]
     },
     "metadata": {},
     "output_type": "display_data"
    }
   ],
   "source": [
    "fig, ax = plt.subplots()\n",
    "\n",
    "labels = ['e', 'd', 'c', 'b', 'a']\n",
    "data = [0, 1, 2, 3, 4]\n",
    "ax.bar(labels, data)\n",
    "\n",
    ";"
   ]
  },
  {
   "cell_type": "code",
   "execution_count": 12,
   "id": "9f1622a2",
   "metadata": {},
   "outputs": [
    {
     "data": {
      "text/plain": [
       "''"
      ]
     },
     "execution_count": 12,
     "metadata": {},
     "output_type": "execute_result"
    },
    {
     "data": {
      "image/png": "[encoded data removed]",
      "text/plain": [
       "<Figure size 640x480 with 1 Axes>"
      ]
     },
     "metadata": {},
     "output_type": "display_data"
    }
   ],
   "source": [
    "fig, ax = plt.subplots()\n",
    "\n",
    "labels = ['e', 'd', 'c', 'b', 'a']\n",
    "data = [0, 1, 2, 3, 4]\n",
    "ax.barh(labels, data)\n",
    "\n",
    ";"
   ]
  },
  {
   "cell_type": "code",
   "execution_count": 14,
   "id": "55b3d819",
   "metadata": {},
   "outputs": [
    {
     "data": {
      "text/plain": [
       "''"
      ]
     },
     "execution_count": 14,
     "metadata": {},
     "output_type": "execute_result"
    },
    {
     "data": {
      "image/png": "[encoded data removed]",
      "text/plain": [
       "<Figure size 640x480 with 1 Axes>"
      ]
     },
     "metadata": {},
     "output_type": "display_data"
    }
   ],
   "source": [
    "fig, ax = plt.subplots()\n",
    "\n",
    "labels = ['e', 'd', 'c', 'b', 'a'][::-1] #reverse order\n",
    "data = [0, 1, 2, 3, 4][::-1] #got to do both\n",
    "ax.barh(labels, data)\n",
    "\n",
    ";"
   ]
  },
  {
   "cell_type": "code",
   "execution_count": 2,
   "id": "bec07874",
   "metadata": {},
   "outputs": [],
   "source": [
    "housing_raw = pd.read_csv(\n",
    "    '../Data/housing_data.csv',\n",
    "    parse_dates = ['period_begin', 'period_end'],\n",
    "    dtype = {'total_homes_sold' : 'Int32', 'region_name' : 'category'} \n",
    ") #category cuts down on processing time"
   ]
  },
  {
   "cell_type": "code",
   "execution_count": 19,
   "id": "877a40e3",
   "metadata": {},
   "outputs": [
    {
     "data": {
      "text/html": [
       "<div>\n",
       "<style scoped>\n",
       "    .dataframe tbody tr th:only-of-type {\n",
       "        vertical-align: middle;\n",
       "    }\n",
       "\n",
       "    .dataframe tbody tr th {\n",
       "        vertical-align: top;\n",
       "    }\n",
       "\n",
       "    .dataframe thead th {\n",
       "        text-align: right;\n",
       "    }\n",
       "</style>\n",
       "<table border=\"1\" class=\"dataframe\">\n",
       "  <thead>\n",
       "    <tr style=\"text-align: right;\">\n",
       "      <th></th>\n",
       "      <th>region_name</th>\n",
       "      <th>period_end</th>\n",
       "      <th>total_homes_sold</th>\n",
       "      <th>inventory</th>\n",
       "      <th>active_listings</th>\n",
       "      <th>age_of_inventory</th>\n",
       "      <th>median_active_list_price</th>\n",
       "      <th>months_of_supply</th>\n",
       "    </tr>\n",
       "    <tr>\n",
       "      <th>period_begin</th>\n",
       "      <th></th>\n",
       "      <th></th>\n",
       "      <th></th>\n",
       "      <th></th>\n",
       "      <th></th>\n",
       "      <th></th>\n",
       "      <th></th>\n",
       "      <th></th>\n",
       "    </tr>\n",
       "  </thead>\n",
       "  <tbody>\n",
       "    <tr>\n",
       "      <th>2017-01-02</th>\n",
       "      <td>Mono</td>\n",
       "      <td>2017-03-26</td>\n",
       "      <td>97</td>\n",
       "      <td>153.0</td>\n",
       "      <td>161.0</td>\n",
       "      <td>89.7</td>\n",
       "      <td>450745.8</td>\n",
       "      <td>21.208631</td>\n",
       "    </tr>\n",
       "    <tr>\n",
       "      <th>2017-01-02</th>\n",
       "      <td>Yolo</td>\n",
       "      <td>2017-03-26</td>\n",
       "      <td>336</td>\n",
       "      <td>234.0</td>\n",
       "      <td>272.0</td>\n",
       "      <td>48.5</td>\n",
       "      <td>447859.2</td>\n",
       "      <td>9.857470</td>\n",
       "    </tr>\n",
       "    <tr>\n",
       "      <th>2017-01-02</th>\n",
       "      <td>Stanislaus</td>\n",
       "      <td>2017-03-26</td>\n",
       "      <td>1192</td>\n",
       "      <td>912.0</td>\n",
       "      <td>1043.0</td>\n",
       "      <td>55.3</td>\n",
       "      <td>300302.0</td>\n",
       "      <td>10.971331</td>\n",
       "    </tr>\n",
       "    <tr>\n",
       "      <th>2017-01-02</th>\n",
       "      <td>Shasta</td>\n",
       "      <td>2017-03-26</td>\n",
       "      <td>7</td>\n",
       "      <td>17.0</td>\n",
       "      <td>18.0</td>\n",
       "      <td>147.5</td>\n",
       "      <td>489020.8</td>\n",
       "      <td>17.333333</td>\n",
       "    </tr>\n",
       "    <tr>\n",
       "      <th>2017-01-02</th>\n",
       "      <td>Lassen</td>\n",
       "      <td>2017-03-26</td>\n",
       "      <td>2</td>\n",
       "      <td>5.0</td>\n",
       "      <td>5.0</td>\n",
       "      <td>98.8</td>\n",
       "      <td>198750.0</td>\n",
       "      <td>5.500000</td>\n",
       "    </tr>\n",
       "  </tbody>\n",
       "</table>\n",
       "</div>"
      ],
      "text/plain": [
       "             region_name period_end  total_homes_sold  inventory  \\\n",
       "period_begin                                                       \n",
       "2017-01-02          Mono 2017-03-26                97      153.0   \n",
       "2017-01-02          Yolo 2017-03-26               336      234.0   \n",
       "2017-01-02    Stanislaus 2017-03-26              1192      912.0   \n",
       "2017-01-02        Shasta 2017-03-26                 7       17.0   \n",
       "2017-01-02        Lassen 2017-03-26                 2        5.0   \n",
       "\n",
       "              active_listings  age_of_inventory  median_active_list_price  \\\n",
       "period_begin                                                                \n",
       "2017-01-02              161.0              89.7                  450745.8   \n",
       "2017-01-02              272.0              48.5                  447859.2   \n",
       "2017-01-02             1043.0              55.3                  300302.0   \n",
       "2017-01-02               18.0             147.5                  489020.8   \n",
       "2017-01-02                5.0              98.8                  198750.0   \n",
       "\n",
       "              months_of_supply  \n",
       "period_begin                    \n",
       "2017-01-02           21.208631  \n",
       "2017-01-02            9.857470  \n",
       "2017-01-02           10.971331  \n",
       "2017-01-02           17.333333  \n",
       "2017-01-02            5.500000  "
      ]
     },
     "execution_count": 19,
     "metadata": {},
     "output_type": "execute_result"
    }
   ],
   "source": [
    "ca_housing = (housing_raw.loc[\n",
    "    (housing_raw['region_name'].str.contains('CA'))\n",
    "].assign(region_name = housing_raw['region_name'].str[0:-11]).set_index('period_begin').sort_index())\n",
    "\n",
    "ca_housing.head()"
   ]
  },
  {
   "cell_type": "code",
   "execution_count": 27,
   "id": "bbefb623",
   "metadata": {},
   "outputs": [],
   "source": [
    "total_sold = (ca_housing\n",
    "             .groupby('region_name')\n",
    "             .agg({'total_homes_sold' : 'sum'})\n",
    "              .sort_values('total_homes_sold', ascending = False)\n",
    "              .iloc[:10]\n",
    "             )"
   ]
  },
  {
   "cell_type": "code",
   "execution_count": 28,
   "id": "6b37ec24",
   "metadata": {},
   "outputs": [
    {
     "data": {
      "text/html": [
       "<div>\n",
       "<style scoped>\n",
       "    .dataframe tbody tr th:only-of-type {\n",
       "        vertical-align: middle;\n",
       "    }\n",
       "\n",
       "    .dataframe tbody tr th {\n",
       "        vertical-align: top;\n",
       "    }\n",
       "\n",
       "    .dataframe thead th {\n",
       "        text-align: right;\n",
       "    }\n",
       "</style>\n",
       "<table border=\"1\" class=\"dataframe\">\n",
       "  <thead>\n",
       "    <tr style=\"text-align: right;\">\n",
       "      <th></th>\n",
       "      <th>total_homes_sold</th>\n",
       "    </tr>\n",
       "    <tr>\n",
       "      <th>region_name</th>\n",
       "      <th></th>\n",
       "    </tr>\n",
       "  </thead>\n",
       "  <tbody>\n",
       "    <tr>\n",
       "      <th>Los Angeles</th>\n",
       "      <td>4622703</td>\n",
       "    </tr>\n",
       "    <tr>\n",
       "      <th>San Diego</th>\n",
       "      <td>2373289</td>\n",
       "    </tr>\n",
       "    <tr>\n",
       "      <th>Riverside</th>\n",
       "      <td>2335243</td>\n",
       "    </tr>\n",
       "    <tr>\n",
       "      <th>Orange</th>\n",
       "      <td>2004799</td>\n",
       "    </tr>\n",
       "    <tr>\n",
       "      <th>San Bernardino</th>\n",
       "      <td>1705727</td>\n",
       "    </tr>\n",
       "    <tr>\n",
       "      <th>Sacramento</th>\n",
       "      <td>1256838</td>\n",
       "    </tr>\n",
       "    <tr>\n",
       "      <th>Santa Clara</th>\n",
       "      <td>967707</td>\n",
       "    </tr>\n",
       "    <tr>\n",
       "      <th>Alameda</th>\n",
       "      <td>925469</td>\n",
       "    </tr>\n",
       "    <tr>\n",
       "      <th>Contra Costa</th>\n",
       "      <td>921039</td>\n",
       "    </tr>\n",
       "    <tr>\n",
       "      <th>Fresno</th>\n",
       "      <td>608004</td>\n",
       "    </tr>\n",
       "  </tbody>\n",
       "</table>\n",
       "</div>"
      ],
      "text/plain": [
       "                total_homes_sold\n",
       "region_name                     \n",
       "Los Angeles              4622703\n",
       "San Diego                2373289\n",
       "Riverside                2335243\n",
       "Orange                   2004799\n",
       "San Bernardino           1705727\n",
       "Sacramento               1256838\n",
       "Santa Clara               967707\n",
       "Alameda                   925469\n",
       "Contra Costa              921039\n",
       "Fresno                    608004"
      ]
     },
     "execution_count": 28,
     "metadata": {},
     "output_type": "execute_result"
    }
   ],
   "source": [
    "total_sold"
   ]
  },
  {
   "cell_type": "code",
   "execution_count": 43,
   "id": "6a6acbe0",
   "metadata": {},
   "outputs": [
    {
     "data": {
      "image/png": "[encoded data removed]",
      "text/plain": [
       "<Figure size 640x480 with 1 Axes>"
      ]
     },
     "metadata": {},
     "output_type": "display_data"
    }
   ],
   "source": [
    "fig, ax = plt.subplots()\n",
    "colors = ['blue', 'blue', 'blue', 'blue', 'blue', 'red', 'orange', 'orange', 'orange', 'red']\n",
    "\n",
    "ax.bar(total_sold.index, total_sold['total_homes_sold'],\n",
    "         color = colors)\n",
    "\n",
    "socal = mpatches.Patch(color = 'blue', label = 'SoCal')\n",
    "central = mpatches.Patch(color = 'red', label = \"Central Valley\")\n",
    "bay = mpatches.Patch(color = 'orange', label = 'Bay Area')\n",
    "\n",
    "plt.legend(handles = [socal, central, bay], loc = 'upper right')\n",
    "\n",
    "ax.xaxis.set_tick_params(rotation = 30)"
   ]
  },
  {
   "cell_type": "code",
   "execution_count": 46,
   "id": "aaf3555e",
   "metadata": {},
   "outputs": [],
   "source": [
    "ca_or = housing_raw.loc[housing_raw['region_name'].str[-2:].isin([\"CA\", \"OR\", \"WA\"])]"
   ]
  },
  {
   "cell_type": "code",
   "execution_count": 47,
   "id": "e103f986",
   "metadata": {},
   "outputs": [
    {
     "data": {
      "text/html": [
       "<div>\n",
       "<style scoped>\n",
       "    .dataframe tbody tr th:only-of-type {\n",
       "        vertical-align: middle;\n",
       "    }\n",
       "\n",
       "    .dataframe tbody tr th {\n",
       "        vertical-align: top;\n",
       "    }\n",
       "\n",
       "    .dataframe thead th {\n",
       "        text-align: right;\n",
       "    }\n",
       "</style>\n",
       "<table border=\"1\" class=\"dataframe\">\n",
       "  <thead>\n",
       "    <tr style=\"text-align: right;\">\n",
       "      <th></th>\n",
       "      <th>region_name</th>\n",
       "      <th>period_begin</th>\n",
       "      <th>period_end</th>\n",
       "      <th>total_homes_sold</th>\n",
       "      <th>inventory</th>\n",
       "      <th>active_listings</th>\n",
       "      <th>age_of_inventory</th>\n",
       "      <th>median_active_list_price</th>\n",
       "      <th>months_of_supply</th>\n",
       "    </tr>\n",
       "  </thead>\n",
       "  <tbody>\n",
       "    <tr>\n",
       "      <th>6</th>\n",
       "      <td>Sacramento County, CA</td>\n",
       "      <td>2020-06-22</td>\n",
       "      <td>2020-09-13</td>\n",
       "      <td>5107</td>\n",
       "      <td>1729.0</td>\n",
       "      <td>2206.0</td>\n",
       "      <td>27.5</td>\n",
       "      <td>445540.9</td>\n",
       "      <td>5.235794</td>\n",
       "    </tr>\n",
       "    <tr>\n",
       "      <th>19</th>\n",
       "      <td>Garfield County, WA</td>\n",
       "      <td>2019-06-17</td>\n",
       "      <td>2019-09-08</td>\n",
       "      <td>7</td>\n",
       "      <td>9.0</td>\n",
       "      <td>10.0</td>\n",
       "      <td>52.7</td>\n",
       "      <td>152666.6</td>\n",
       "      <td>9.333333</td>\n",
       "    </tr>\n",
       "    <tr>\n",
       "      <th>26</th>\n",
       "      <td>Gilliam County, OR</td>\n",
       "      <td>2018-06-18</td>\n",
       "      <td>2018-09-09</td>\n",
       "      <td>3</td>\n",
       "      <td>9.0</td>\n",
       "      <td>9.0</td>\n",
       "      <td>95.6</td>\n",
       "      <td>143037.5</td>\n",
       "      <td>9.000000</td>\n",
       "    </tr>\n",
       "    <tr>\n",
       "      <th>99</th>\n",
       "      <td>Klickitat County, WA</td>\n",
       "      <td>2017-04-17</td>\n",
       "      <td>2017-07-09</td>\n",
       "      <td>48</td>\n",
       "      <td>53.0</td>\n",
       "      <td>58.0</td>\n",
       "      <td>87.2</td>\n",
       "      <td>326237.5</td>\n",
       "      <td>16.193434</td>\n",
       "    </tr>\n",
       "    <tr>\n",
       "      <th>124</th>\n",
       "      <td>Jefferson County, WA</td>\n",
       "      <td>2017-02-06</td>\n",
       "      <td>2017-04-30</td>\n",
       "      <td>138</td>\n",
       "      <td>177.0</td>\n",
       "      <td>190.0</td>\n",
       "      <td>127.8</td>\n",
       "      <td>404637.5</td>\n",
       "      <td>22.486617</td>\n",
       "    </tr>\n",
       "  </tbody>\n",
       "</table>\n",
       "</div>"
      ],
      "text/plain": [
       "               region_name period_begin period_end  total_homes_sold  \\\n",
       "6    Sacramento County, CA   2020-06-22 2020-09-13              5107   \n",
       "19     Garfield County, WA   2019-06-17 2019-09-08                 7   \n",
       "26      Gilliam County, OR   2018-06-18 2018-09-09                 3   \n",
       "99    Klickitat County, WA   2017-04-17 2017-07-09                48   \n",
       "124   Jefferson County, WA   2017-02-06 2017-04-30               138   \n",
       "\n",
       "     inventory  active_listings  age_of_inventory  median_active_list_price  \\\n",
       "6       1729.0           2206.0              27.5                  445540.9   \n",
       "19         9.0             10.0              52.7                  152666.6   \n",
       "26         9.0              9.0              95.6                  143037.5   \n",
       "99        53.0             58.0              87.2                  326237.5   \n",
       "124      177.0            190.0             127.8                  404637.5   \n",
       "\n",
       "     months_of_supply  \n",
       "6            5.235794  \n",
       "19           9.333333  \n",
       "26           9.000000  \n",
       "99          16.193434  \n",
       "124         22.486617  "
      ]
     },
     "execution_count": 47,
     "metadata": {},
     "output_type": "execute_result"
    }
   ],
   "source": [
    "ca_or.head()"
   ]
  },
  {
   "cell_type": "code",
   "execution_count": 56,
   "id": "cc118aee",
   "metadata": {},
   "outputs": [],
   "source": [
    "ca_or = ca_or.assign(\n",
    "    price_range = pd.cut(\n",
    "    ca_or.loc[:, \"median_active_list_price\"],\n",
    "    [0, 400000, 600000, 2000000],\n",
    "    labels = [\"0-400K\", \"400-600K\", \"600K+\"]),\n",
    "    state = ca_or[\"region_name\"].str[-2:]\n",
    ")"
   ]
  },
  {
   "cell_type": "code",
   "execution_count": 57,
   "id": "fe155d88",
   "metadata": {},
   "outputs": [
    {
     "data": {
      "text/html": [
       "<div>\n",
       "<style scoped>\n",
       "    .dataframe tbody tr th:only-of-type {\n",
       "        vertical-align: middle;\n",
       "    }\n",
       "\n",
       "    .dataframe tbody tr th {\n",
       "        vertical-align: top;\n",
       "    }\n",
       "\n",
       "    .dataframe thead th {\n",
       "        text-align: right;\n",
       "    }\n",
       "</style>\n",
       "<table border=\"1\" class=\"dataframe\">\n",
       "  <thead>\n",
       "    <tr style=\"text-align: right;\">\n",
       "      <th></th>\n",
       "      <th>region_name</th>\n",
       "      <th>period_begin</th>\n",
       "      <th>period_end</th>\n",
       "      <th>total_homes_sold</th>\n",
       "      <th>inventory</th>\n",
       "      <th>active_listings</th>\n",
       "      <th>age_of_inventory</th>\n",
       "      <th>median_active_list_price</th>\n",
       "      <th>months_of_supply</th>\n",
       "      <th>price_range</th>\n",
       "      <th>state</th>\n",
       "    </tr>\n",
       "  </thead>\n",
       "  <tbody>\n",
       "    <tr>\n",
       "      <th>6</th>\n",
       "      <td>Sacramento County, CA</td>\n",
       "      <td>2020-06-22</td>\n",
       "      <td>2020-09-13</td>\n",
       "      <td>5107</td>\n",
       "      <td>1729.0</td>\n",
       "      <td>2206.0</td>\n",
       "      <td>27.5</td>\n",
       "      <td>445540.9</td>\n",
       "      <td>5.235794</td>\n",
       "      <td>400-600K</td>\n",
       "      <td>CA</td>\n",
       "    </tr>\n",
       "    <tr>\n",
       "      <th>19</th>\n",
       "      <td>Garfield County, WA</td>\n",
       "      <td>2019-06-17</td>\n",
       "      <td>2019-09-08</td>\n",
       "      <td>7</td>\n",
       "      <td>9.0</td>\n",
       "      <td>10.0</td>\n",
       "      <td>52.7</td>\n",
       "      <td>152666.6</td>\n",
       "      <td>9.333333</td>\n",
       "      <td>0-400K</td>\n",
       "      <td>WA</td>\n",
       "    </tr>\n",
       "    <tr>\n",
       "      <th>26</th>\n",
       "      <td>Gilliam County, OR</td>\n",
       "      <td>2018-06-18</td>\n",
       "      <td>2018-09-09</td>\n",
       "      <td>3</td>\n",
       "      <td>9.0</td>\n",
       "      <td>9.0</td>\n",
       "      <td>95.6</td>\n",
       "      <td>143037.5</td>\n",
       "      <td>9.000000</td>\n",
       "      <td>0-400K</td>\n",
       "      <td>OR</td>\n",
       "    </tr>\n",
       "    <tr>\n",
       "      <th>99</th>\n",
       "      <td>Klickitat County, WA</td>\n",
       "      <td>2017-04-17</td>\n",
       "      <td>2017-07-09</td>\n",
       "      <td>48</td>\n",
       "      <td>53.0</td>\n",
       "      <td>58.0</td>\n",
       "      <td>87.2</td>\n",
       "      <td>326237.5</td>\n",
       "      <td>16.193434</td>\n",
       "      <td>0-400K</td>\n",
       "      <td>WA</td>\n",
       "    </tr>\n",
       "    <tr>\n",
       "      <th>124</th>\n",
       "      <td>Jefferson County, WA</td>\n",
       "      <td>2017-02-06</td>\n",
       "      <td>2017-04-30</td>\n",
       "      <td>138</td>\n",
       "      <td>177.0</td>\n",
       "      <td>190.0</td>\n",
       "      <td>127.8</td>\n",
       "      <td>404637.5</td>\n",
       "      <td>22.486617</td>\n",
       "      <td>400-600K</td>\n",
       "      <td>WA</td>\n",
       "    </tr>\n",
       "  </tbody>\n",
       "</table>\n",
       "</div>"
      ],
      "text/plain": [
       "               region_name period_begin period_end  total_homes_sold  \\\n",
       "6    Sacramento County, CA   2020-06-22 2020-09-13              5107   \n",
       "19     Garfield County, WA   2019-06-17 2019-09-08                 7   \n",
       "26      Gilliam County, OR   2018-06-18 2018-09-09                 3   \n",
       "99    Klickitat County, WA   2017-04-17 2017-07-09                48   \n",
       "124   Jefferson County, WA   2017-02-06 2017-04-30               138   \n",
       "\n",
       "     inventory  active_listings  age_of_inventory  median_active_list_price  \\\n",
       "6       1729.0           2206.0              27.5                  445540.9   \n",
       "19         9.0             10.0              52.7                  152666.6   \n",
       "26         9.0              9.0              95.6                  143037.5   \n",
       "99        53.0             58.0              87.2                  326237.5   \n",
       "124      177.0            190.0             127.8                  404637.5   \n",
       "\n",
       "     months_of_supply price_range state  \n",
       "6            5.235794    400-600K    CA  \n",
       "19           9.333333      0-400K    WA  \n",
       "26           9.000000      0-400K    OR  \n",
       "99          16.193434      0-400K    WA  \n",
       "124         22.486617    400-600K    WA  "
      ]
     },
     "execution_count": 57,
     "metadata": {},
     "output_type": "execute_result"
    }
   ],
   "source": [
    "ca_or.head()"
   ]
  },
  {
   "cell_type": "code",
   "execution_count": 58,
   "id": "47f81174",
   "metadata": {},
   "outputs": [
    {
     "data": {
      "text/html": [
       "<div>\n",
       "<style scoped>\n",
       "    .dataframe tbody tr th:only-of-type {\n",
       "        vertical-align: middle;\n",
       "    }\n",
       "\n",
       "    .dataframe tbody tr th {\n",
       "        vertical-align: top;\n",
       "    }\n",
       "\n",
       "    .dataframe thead th {\n",
       "        text-align: right;\n",
       "    }\n",
       "</style>\n",
       "<table border=\"1\" class=\"dataframe\">\n",
       "  <thead>\n",
       "    <tr style=\"text-align: right;\">\n",
       "      <th>state</th>\n",
       "      <th>CA</th>\n",
       "      <th>OR</th>\n",
       "      <th>WA</th>\n",
       "    </tr>\n",
       "    <tr>\n",
       "      <th>price_range</th>\n",
       "      <th></th>\n",
       "      <th></th>\n",
       "      <th></th>\n",
       "    </tr>\n",
       "  </thead>\n",
       "  <tbody>\n",
       "    <tr>\n",
       "      <th>0-400K</th>\n",
       "      <td>4267.0</td>\n",
       "      <td>1074.0</td>\n",
       "      <td>2143.0</td>\n",
       "    </tr>\n",
       "    <tr>\n",
       "      <th>400-600K</th>\n",
       "      <td>13877.0</td>\n",
       "      <td>4711.0</td>\n",
       "      <td>4858.0</td>\n",
       "    </tr>\n",
       "    <tr>\n",
       "      <th>600K+</th>\n",
       "      <td>35147.0</td>\n",
       "      <td>1229.0</td>\n",
       "      <td>3649.0</td>\n",
       "    </tr>\n",
       "  </tbody>\n",
       "</table>\n",
       "</div>"
      ],
      "text/plain": [
       "state             CA      OR      WA\n",
       "price_range                         \n",
       "0-400K        4267.0  1074.0  2143.0\n",
       "400-600K     13877.0  4711.0  4858.0\n",
       "600K+        35147.0  1229.0  3649.0"
      ]
     },
     "execution_count": 58,
     "metadata": {},
     "output_type": "execute_result"
    }
   ],
   "source": [
    "ca_or = ca_or.query(\"period_end == '2021-08-01'\").pivot_table(index = 'price_range', \n",
    "                                                              columns = 'state',\n",
    "                                                             values = 'inventory',\n",
    "                                                             aggfunc = 'sum')\n",
    "ca_or.head()"
   ]
  },
  {
   "cell_type": "code",
   "execution_count": 59,
   "id": "53e59764",
   "metadata": {},
   "outputs": [
    {
     "data": {
      "text/plain": [
       "Text(0, 0.5, 'Homes Sold')"
      ]
     },
     "execution_count": 59,
     "metadata": {},
     "output_type": "execute_result"
    },
    {
     "data": {
      "image/png": "[encoded data removed]",
      "text/plain": [
       "<Figure size 640x480 with 1 Axes>"
      ]
     },
     "metadata": {},
     "output_type": "display_data"
    }
   ],
   "source": [
    "fig, ax = plt.subplots()\n",
    "\n",
    "ax.bar(\n",
    "    ca_or.index,\n",
    "    ca_or['CA'],\n",
    "    label = \"California\"\n",
    ")\n",
    "\n",
    "ax.bar(\n",
    "    ca_or.index,\n",
    "    ca_or['OR'],\n",
    "    label = \"Oregon\",\n",
    "    bottom = ca_or[\"CA\"]\n",
    ")\n",
    "\n",
    "ax.bar(\n",
    "    ca_or.index,\n",
    "    ca_or['WA'],\n",
    "    label = \"Washington\",\n",
    "    bottom = ca_or[\"CA\"] + ca_or[\"OR\"]\n",
    ")\n",
    "\n",
    "ax.set_title(\"Units Sales of Homes in CA and OR\")\n",
    "ax.set_ylabel(\"Homes Sold\")\n",
    "\n",
    "ax.legend"
   ]
  },
  {
   "cell_type": "code",
   "execution_count": null,
   "id": "3ee0df4c",
   "metadata": {},
   "outputs": [],
   "source": []
  }
 ],
 "metadata": {
  "kernelspec": {
   "display_name": "Python 3 (ipykernel)",
   "language": "python",
   "name": "python3"
  },
  "language_info": {
   "codemirror_mode": {
    "name": "ipython",
    "version": 3
   },
   "file_extension": ".py",
   "mimetype": "text/x-python",
   "name": "python",
   "nbconvert_exporter": "python",
   "pygments_lexer": "ipython3",
   "version": "3.9.13"
  }
 },
 "nbformat": 4,
 "nbformat_minor": 5
}
