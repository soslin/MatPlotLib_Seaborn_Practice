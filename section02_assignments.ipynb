{
 "cells": [
  {
   "cell_type": "code",
   "execution_count": 1,
   "id": "d15eec40",
   "metadata": {},
   "outputs": [],
   "source": [
    "import pandas as pd\n",
    "import numpy as np\n",
    "\n",
    "import matplotlib.pyplot as plt"
   ]
  },
  {
   "cell_type": "code",
   "execution_count": 2,
   "id": "89caecaf",
   "metadata": {},
   "outputs": [],
   "source": [
    "hotels = pd.read_excel(\"../Data/HotelCustomersDataset.xlsx\")\n",
    "\n",
    "hotels[\"date\"] =  (pd.to_datetime(\"2018-12-31\")\n",
    "                   - pd.to_timedelta(hotels[\"DaysSinceCreation\"], unit=\"D\")).astype(\"datetime64\")"
   ]
  },
  {
   "cell_type": "code",
   "execution_count": 3,
   "id": "ba2405b7",
   "metadata": {},
   "outputs": [
    {
     "data": {
      "text/html": [
       "<div>\n",
       "<style scoped>\n",
       "    .dataframe tbody tr th:only-of-type {\n",
       "        vertical-align: middle;\n",
       "    }\n",
       "\n",
       "    .dataframe tbody tr th {\n",
       "        vertical-align: top;\n",
       "    }\n",
       "\n",
       "    .dataframe thead th {\n",
       "        text-align: right;\n",
       "    }\n",
       "</style>\n",
       "<table border=\"1\" class=\"dataframe\">\n",
       "  <thead>\n",
       "    <tr style=\"text-align: right;\">\n",
       "      <th></th>\n",
       "      <th>ID</th>\n",
       "      <th>Nationality</th>\n",
       "      <th>Age</th>\n",
       "      <th>DaysSinceCreation</th>\n",
       "      <th>AverageLeadTime</th>\n",
       "      <th>LodgingRevenue</th>\n",
       "      <th>OtherRevenue</th>\n",
       "      <th>BookingsCanceled</th>\n",
       "      <th>BookingsNoShowed</th>\n",
       "      <th>BookingsCheckedIn</th>\n",
       "      <th>...</th>\n",
       "      <th>SRBathtub</th>\n",
       "      <th>SRShower</th>\n",
       "      <th>SRCrib</th>\n",
       "      <th>SRKingSizeBed</th>\n",
       "      <th>SRTwinBed</th>\n",
       "      <th>SRNearElevator</th>\n",
       "      <th>SRAwayFromElevator</th>\n",
       "      <th>SRNoAlcoholInMiniBar</th>\n",
       "      <th>SRQuietRoom</th>\n",
       "      <th>date</th>\n",
       "    </tr>\n",
       "  </thead>\n",
       "  <tbody>\n",
       "    <tr>\n",
       "      <th>0</th>\n",
       "      <td>1</td>\n",
       "      <td>PRT</td>\n",
       "      <td>51.0</td>\n",
       "      <td>150</td>\n",
       "      <td>45</td>\n",
       "      <td>371.0</td>\n",
       "      <td>105.3</td>\n",
       "      <td>1</td>\n",
       "      <td>0</td>\n",
       "      <td>3</td>\n",
       "      <td>...</td>\n",
       "      <td>0</td>\n",
       "      <td>0</td>\n",
       "      <td>0</td>\n",
       "      <td>0</td>\n",
       "      <td>0</td>\n",
       "      <td>0</td>\n",
       "      <td>0</td>\n",
       "      <td>0</td>\n",
       "      <td>0</td>\n",
       "      <td>2018-08-03</td>\n",
       "    </tr>\n",
       "    <tr>\n",
       "      <th>1</th>\n",
       "      <td>2</td>\n",
       "      <td>PRT</td>\n",
       "      <td>NaN</td>\n",
       "      <td>1095</td>\n",
       "      <td>61</td>\n",
       "      <td>280.0</td>\n",
       "      <td>53.0</td>\n",
       "      <td>0</td>\n",
       "      <td>0</td>\n",
       "      <td>1</td>\n",
       "      <td>...</td>\n",
       "      <td>0</td>\n",
       "      <td>0</td>\n",
       "      <td>0</td>\n",
       "      <td>0</td>\n",
       "      <td>0</td>\n",
       "      <td>0</td>\n",
       "      <td>0</td>\n",
       "      <td>0</td>\n",
       "      <td>0</td>\n",
       "      <td>2016-01-01</td>\n",
       "    </tr>\n",
       "    <tr>\n",
       "      <th>2</th>\n",
       "      <td>3</td>\n",
       "      <td>DEU</td>\n",
       "      <td>31.0</td>\n",
       "      <td>1095</td>\n",
       "      <td>0</td>\n",
       "      <td>0.0</td>\n",
       "      <td>0.0</td>\n",
       "      <td>0</td>\n",
       "      <td>0</td>\n",
       "      <td>0</td>\n",
       "      <td>...</td>\n",
       "      <td>0</td>\n",
       "      <td>0</td>\n",
       "      <td>0</td>\n",
       "      <td>0</td>\n",
       "      <td>0</td>\n",
       "      <td>0</td>\n",
       "      <td>0</td>\n",
       "      <td>0</td>\n",
       "      <td>0</td>\n",
       "      <td>2016-01-01</td>\n",
       "    </tr>\n",
       "    <tr>\n",
       "      <th>3</th>\n",
       "      <td>4</td>\n",
       "      <td>FRA</td>\n",
       "      <td>60.0</td>\n",
       "      <td>1095</td>\n",
       "      <td>93</td>\n",
       "      <td>240.0</td>\n",
       "      <td>60.0</td>\n",
       "      <td>0</td>\n",
       "      <td>0</td>\n",
       "      <td>1</td>\n",
       "      <td>...</td>\n",
       "      <td>0</td>\n",
       "      <td>0</td>\n",
       "      <td>0</td>\n",
       "      <td>0</td>\n",
       "      <td>0</td>\n",
       "      <td>0</td>\n",
       "      <td>0</td>\n",
       "      <td>0</td>\n",
       "      <td>0</td>\n",
       "      <td>2016-01-01</td>\n",
       "    </tr>\n",
       "    <tr>\n",
       "      <th>4</th>\n",
       "      <td>5</td>\n",
       "      <td>FRA</td>\n",
       "      <td>51.0</td>\n",
       "      <td>1095</td>\n",
       "      <td>0</td>\n",
       "      <td>0.0</td>\n",
       "      <td>0.0</td>\n",
       "      <td>0</td>\n",
       "      <td>0</td>\n",
       "      <td>0</td>\n",
       "      <td>...</td>\n",
       "      <td>0</td>\n",
       "      <td>0</td>\n",
       "      <td>0</td>\n",
       "      <td>0</td>\n",
       "      <td>0</td>\n",
       "      <td>0</td>\n",
       "      <td>0</td>\n",
       "      <td>0</td>\n",
       "      <td>0</td>\n",
       "      <td>2016-01-01</td>\n",
       "    </tr>\n",
       "  </tbody>\n",
       "</table>\n",
       "<p>5 rows × 30 columns</p>\n",
       "</div>"
      ],
      "text/plain": [
       "   ID Nationality   Age  DaysSinceCreation  AverageLeadTime  LodgingRevenue  \\\n",
       "0   1         PRT  51.0                150               45           371.0   \n",
       "1   2         PRT   NaN               1095               61           280.0   \n",
       "2   3         DEU  31.0               1095                0             0.0   \n",
       "3   4         FRA  60.0               1095               93           240.0   \n",
       "4   5         FRA  51.0               1095                0             0.0   \n",
       "\n",
       "   OtherRevenue  BookingsCanceled  BookingsNoShowed  BookingsCheckedIn  ...  \\\n",
       "0         105.3                 1                 0                  3  ...   \n",
       "1          53.0                 0                 0                  1  ...   \n",
       "2           0.0                 0                 0                  0  ...   \n",
       "3          60.0                 0                 0                  1  ...   \n",
       "4           0.0                 0                 0                  0  ...   \n",
       "\n",
       "   SRBathtub  SRShower  SRCrib  SRKingSizeBed SRTwinBed SRNearElevator  \\\n",
       "0          0         0       0              0         0              0   \n",
       "1          0         0       0              0         0              0   \n",
       "2          0         0       0              0         0              0   \n",
       "3          0         0       0              0         0              0   \n",
       "4          0         0       0              0         0              0   \n",
       "\n",
       "   SRAwayFromElevator  SRNoAlcoholInMiniBar  SRQuietRoom       date  \n",
       "0                   0                     0            0 2018-08-03  \n",
       "1                   0                     0            0 2016-01-01  \n",
       "2                   0                     0            0 2016-01-01  \n",
       "3                   0                     0            0 2016-01-01  \n",
       "4                   0                     0            0 2016-01-01  \n",
       "\n",
       "[5 rows x 30 columns]"
      ]
     },
     "execution_count": 3,
     "metadata": {},
     "output_type": "execute_result"
    }
   ],
   "source": [
    "hotels.head()"
   ]
  },
  {
   "cell_type": "markdown",
   "id": "506f9274",
   "metadata": {},
   "source": [
    "# Assignment 1: Plotting DataFrames\n",
    "\n",
    "* Plot the `LodgingRevenue` and `OtherRevenue` columns in a line chart from the `monthly_revenue` DataFrame created below.  \n",
    "* Make sure your x-axis is the `date` column."
   ]
  },
  {
   "cell_type": "code",
   "execution_count": 6,
   "id": "5f91af46",
   "metadata": {},
   "outputs": [
    {
     "data": {
      "image/png": "[encoded data removed]",
      "text/plain": [
       "<Figure size 640x480 with 1 Axes>"
      ]
     },
     "metadata": {},
     "output_type": "display_data"
    }
   ],
   "source": [
    "daily_revenue = (\n",
    "    hotels\n",
    "    .groupby(\"date\")\n",
    "    .agg({\"LodgingRevenue\":\"sum\", \"OtherRevenue\":\"sum\"})\n",
    ")\n",
    "\n",
    "monthly_revenue = daily_revenue.resample(\"M\").sum()\n",
    "\n",
    "fig, ax = plt.subplots()\n",
    "ax.plot(monthly_revenue.index, monthly_revenue['LodgingRevenue']) #not required to put in index\n",
    "ax.plot( monthly_revenue['OtherRevenue']);"
   ]
  },
  {
   "cell_type": "markdown",
   "id": "caeb3eb7",
   "metadata": {},
   "source": [
    "# Assignment 2: Formatted Line Chart\n",
    "\n",
    "Plot the monthly sum of `LodgingRevenue` and `OtherRevenue`.\n",
    "\n",
    "Make sure to add titles and a y-axis label, remove the top and right borders, and add a legend.\n",
    "\n",
    "Consider modifying the font sizes as well.\n",
    "\n",
    "Thanks!"
   ]
  },
  {
   "cell_type": "code",
   "execution_count": null,
   "id": "beb0404d",
   "metadata": {},
   "outputs": [],
   "source": [
    "daily_revenue = (\n",
    "    hotels\n",
    "    .groupby(\"date\")\n",
    "    .agg({\"LodgingRevenue\":\"sum\", \"OtherRevenue\":\"sum\"})\n",
    ")\n",
    "\n",
    "monthly_revenue = daily_revenue.resample(\"M\").sum()\n"
   ]
  },
  {
   "cell_type": "code",
   "execution_count": null,
   "id": "f1435cc7",
   "metadata": {},
   "outputs": [],
   "source": []
  },
  {
   "cell_type": "markdown",
   "id": "b403cd53",
   "metadata": {},
   "source": [
    "# Assignment 2: Dual Axis Line Chart\n",
    "\n",
    "* Plot the sum of nights booked and the sum of cancellations on a quarterly basis (resample(\"Q\") will help). \n",
    "\n",
    "* Plot them in the same chart but different Y-Axes.\n",
    "\n",
    "* Make sure to add titles and axis labels, remove scientific notation, and add a legend.\n",
    "\n",
    "* Consider modifying the font sizes as well.\n",
    "\n",
    "Thanks!\n",
    "\n",
    "*Note: I accidentally repeated the assignment numbers, but leaving as is to align with video numbering*"
   ]
  },
  {
   "cell_type": "code",
   "execution_count": null,
   "id": "8732f34d",
   "metadata": {},
   "outputs": [],
   "source": []
  },
  {
   "cell_type": "code",
   "execution_count": null,
   "id": "63a8b671",
   "metadata": {},
   "outputs": [],
   "source": [
    "quarterly_bookings.head()"
   ]
  },
  {
   "cell_type": "code",
   "execution_count": null,
   "id": "0924b2e5",
   "metadata": {},
   "outputs": [],
   "source": []
  },
  {
   "cell_type": "markdown",
   "id": "6d22d29a",
   "metadata": {},
   "source": [
    "# Assignment 3: Bar Chart\n",
    "\n",
    "* Create a bar chart of total room nights booked by country. Limit your results to the top 10 countries.\n",
    "\n",
    "* Then, build a horizontal bar chart of lodging revenue by country for the same countries in your room nights chart.\n",
    "\n",
    "* As always, make sure to add labels to your chart!"
   ]
  },
  {
   "cell_type": "code",
   "execution_count": null,
   "id": "8205caa1",
   "metadata": {},
   "outputs": [],
   "source": [
    "hotels.head()"
   ]
  },
  {
   "cell_type": "code",
   "execution_count": null,
   "id": "3eefede3",
   "metadata": {},
   "outputs": [],
   "source": [
    "countries = "
   ]
  },
  {
   "cell_type": "code",
   "execution_count": null,
   "id": "26f243aa",
   "metadata": {
    "scrolled": true
   },
   "outputs": [],
   "source": []
  },
  {
   "cell_type": "code",
   "execution_count": null,
   "id": "6f58f741",
   "metadata": {},
   "outputs": [],
   "source": []
  },
  {
   "cell_type": "markdown",
   "id": "1112640e",
   "metadata": {},
   "source": [
    "# Assignment 4: Advanced Bar Charts\n",
    "\n",
    "* Build a grouped bar chart of our top 5 countries with LodgingRevenue and OtherRevenue as bars for each.\n",
    "* Then, build a 100% bar chart stacked bar chart of LodgingRevenue and OtherRevenue. Add a reference line at 80%, which is our baseline. \n",
    "\n",
    "Thanks!"
   ]
  },
  {
   "cell_type": "code",
   "execution_count": null,
   "id": "fd693951",
   "metadata": {},
   "outputs": [],
   "source": [
    "countries = [\"FRA\", \"DEU\", \"PRT\", \"GBR\", \"ESP\"]\n",
    "\n",
    "\n",
    "country_subset.head()"
   ]
  },
  {
   "cell_type": "code",
   "execution_count": null,
   "id": "7a51d190",
   "metadata": {},
   "outputs": [],
   "source": []
  },
  {
   "cell_type": "code",
   "execution_count": null,
   "id": "98803e5c",
   "metadata": {},
   "outputs": [],
   "source": []
  },
  {
   "cell_type": "code",
   "execution_count": null,
   "id": "66da6662",
   "metadata": {},
   "outputs": [],
   "source": []
  },
  {
   "cell_type": "markdown",
   "id": "1ef21f9e",
   "metadata": {},
   "source": [
    "# Assignment 5: Pie Charts\n",
    "\n",
    "* Build a pie chart of LodgingRevenue by country. Include a slice for our top 5 countries and combine the rest into an 'other' Category.\n",
    "* Then, convert the pie chart into a donut chart."
   ]
  },
  {
   "cell_type": "code",
   "execution_count": null,
   "id": "18345fac",
   "metadata": {},
   "outputs": [],
   "source": [
    "country_rev = \n",
    "\n",
    "country_rev"
   ]
  },
  {
   "cell_type": "code",
   "execution_count": null,
   "id": "60cbfd38",
   "metadata": {},
   "outputs": [],
   "source": []
  },
  {
   "cell_type": "code",
   "execution_count": null,
   "id": "d5689038",
   "metadata": {},
   "outputs": [],
   "source": []
  },
  {
   "cell_type": "code",
   "execution_count": null,
   "id": "9b6165d4",
   "metadata": {},
   "outputs": [],
   "source": []
  },
  {
   "cell_type": "markdown",
   "id": "72358eb5",
   "metadata": {},
   "source": [
    "# Assignment 6: Scatterplots & Histograms\n",
    "\n",
    "* Build a scatterplot comparing average nights stayed by country to average revenue per customer by country.\n",
    "* Then, build a bubble chart by specifying the size of the bubbles as the average nightly revenue.\n",
    "* Finally, build a histogram comparing customer age in Germany to the Customer age in france. Make sure to tweak your alpha!\n",
    "\n",
    "Column Creation Code:\n",
    "\n",
    "<mark style=\"background-color: black\">\n",
    "    hotels.assign(total_revenue = hotels[\"LodgingRevenue\"] + hotels[\"OtherRevenue\"],\n",
    "                      revenue_per_night = lambda x: x[\"total_revenue\"] / x[\"RoomNights\"])</mark>\n",
    "\n",
    "\n",
    "Thanks!"
   ]
  },
  {
   "cell_type": "code",
   "execution_count": null,
   "id": "a3e11286",
   "metadata": {},
   "outputs": [],
   "source": []
  },
  {
   "cell_type": "code",
   "execution_count": null,
   "id": "47e2582e",
   "metadata": {},
   "outputs": [],
   "source": []
  },
  {
   "cell_type": "code",
   "execution_count": null,
   "id": "90d392ee",
   "metadata": {},
   "outputs": [],
   "source": []
  },
  {
   "cell_type": "code",
   "execution_count": null,
   "id": "a26ca7e9",
   "metadata": {},
   "outputs": [],
   "source": []
  },
  {
   "cell_type": "code",
   "execution_count": null,
   "id": "ed26a231",
   "metadata": {},
   "outputs": [],
   "source": []
  }
 ],
 "metadata": {
  "kernelspec": {
   "display_name": "Python 3 (ipykernel)",
   "language": "python",
   "name": "python3"
  },
  "language_info": {
   "codemirror_mode": {
    "name": "ipython",
    "version": 3
   },
   "file_extension": ".py",
   "mimetype": "text/x-python",
   "name": "python",
   "nbconvert_exporter": "python",
   "pygments_lexer": "ipython3",
   "version": "3.9.13"
  }
 },
 "nbformat": 4,
 "nbformat_minor": 5
}
